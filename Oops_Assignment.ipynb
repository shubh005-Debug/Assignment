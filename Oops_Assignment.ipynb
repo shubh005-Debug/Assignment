{
  "nbformat": 4,
  "nbformat_minor": 0,
  "metadata": {
    "colab": {
      "provenance": []
    },
    "kernelspec": {
      "name": "python3",
      "display_name": "Python 3"
    },
    "language_info": {
      "name": "python"
    }
  },
  "cells": [
    {
      "cell_type": "markdown",
      "source": [
        "1. What are the five key concepts of Object-Oriented Programming (OOP)?\n",
        "\n",
        "=> 1.Encapsulation:Encapsulation is a Python technique for combining data and functions into a\n",
        "single object. A class, for instance, contains all the data (methods and variables).\n",
        "\n",
        "2.polymorphism:In OOP, polymorphism refers to an object's capacity to assume several forms.\n",
        "Simply said, polymorphism enables us to carry out a single activity in a variety of ways\n",
        "\n",
        "\n",
        "From the Greek words poly (many) and morphism (forms), we get polymorphism. Polymorphism is the\n",
        "capacity to assume several shapes.\n",
        "\n",
        "3.classes and object:\n",
        "Class: The class is a user-defined data structure that combines the methods and data members into a single\n",
        "entity. For the production of objects, classes serve as blueprints or code templates. You can make as many\n",
        "objects as you desire using a class.\n",
        "\n",
        "Object: An instance of a class is an object. It consists of a set of methods and attributes. Actions are carried\n",
        "out using a class's object. Objects have two qualities: They exhibit states and actions.  Methods represent its behaviour, while attributes represent its state. We can alter\n",
        "its status by using its techniques.\n",
        "\n",
        "4.Inheritance:inheritance plays a significant role in an oops language inheritance in python refers to the process of child class receiving the parent class properties.\n",
        "\n",
        "5.Abstraction:In Python, abstraction is a key idea in object-oriented programming (OOP) that\n",
        "allows you to describe complicated systems by hiding unneeded details and exposing just essential aspects.\n",
        "It aids in the management of programme complexity by breaking it down into smaller, more manageable\n",
        "sections."
      ],
      "metadata": {
        "id": "Xbl2ZSJxmuY3"
      }
    },
    {
      "cell_type": "markdown",
      "source": [
        "2. Write a Python class for a Car with attributes for make, model, and year. Include a method to display\n",
        "the car's information."
      ],
      "metadata": {
        "id": "AbQqIqhFr0nV"
      }
    },
    {
      "cell_type": "code",
      "source": [
        "class Car:\n",
        "  def __init__(self,make,model,year):\n",
        "    self.make=make\n",
        "    self.model=model\n",
        "    self.year=year\n",
        "  def display_car_info(self):\n",
        "    print(f\"Car=> Make: {self.make}, Model: {self.model}, Year: {self.year}\")\n",
        "my_car=Car(\"BMW\",\"XL600\",2019)\n",
        "my_car.display_car_info()"
      ],
      "metadata": {
        "colab": {
          "base_uri": "https://localhost:8080/"
        },
        "id": "5pQjv3gar2Xi",
        "outputId": "2cf705b5-28b2-4f9d-e78f-bc7051e9812c"
      },
      "execution_count": null,
      "outputs": [
        {
          "output_type": "stream",
          "name": "stdout",
          "text": [
            "Car=> Make: BMW, Model: XL600, Year: 2019\n"
          ]
        }
      ]
    },
    {
      "cell_type": "markdown",
      "source": [
        "3. Explain the difference between instance methods and class methods. Provide an example of each.\n",
        "\n",
        "=>instance methods:require instance and can access the instance through SELF instance methods can access both class and instance attributes.\n",
        "\n",
        "class methods: do not require a class instance and can access the class itself through CLs class methods can access class attribute but cannot access instance attributes class method are marked with @classmethod decorator"
      ],
      "metadata": {
        "id": "6nIhUM8wtL35"
      }
    },
    {
      "cell_type": "code",
      "source": [
        "#instance method\n",
        "\n",
        "class MyClass:\n",
        "  def __init__(self,name):\n",
        "    self.name=name\n",
        "\n",
        "  def say_hello(self):\n",
        "    print(\"Hello my name is\", self.name)\n",
        "obj=MyClass(\"Raju\")\n",
        "obj.say_hello()"
      ],
      "metadata": {
        "colab": {
          "base_uri": "https://localhost:8080/"
        },
        "id": "SRN2QoZhwLSt",
        "outputId": "5d552b07-be71-4aa8-cf86-764d7a21f58e"
      },
      "execution_count": null,
      "outputs": [
        {
          "output_type": "stream",
          "name": "stdout",
          "text": [
            "Hello my name is Raju\n"
          ]
        }
      ]
    },
    {
      "cell_type": "code",
      "source": [
        "#classmethod\n",
        "\n",
        "class Student:\n",
        "  total_student=0\n",
        "  def __init__(self,name):\n",
        "    self.name=name\n",
        "    Student.total_student +=1\n",
        "  @classmethod\n",
        "  def get_total_Students(cls):\n",
        "    return cls.total_student\n",
        "\n",
        "stud1=Student(\"Raju\")\n",
        "Stud2=Student(\"Mohan\")\n",
        "\n",
        "Student.get_total_Students()\n"
      ],
      "metadata": {
        "id": "Vlc3BCObxBaR",
        "colab": {
          "base_uri": "https://localhost:8080/"
        },
        "outputId": "b13ff689-e447-4d03-bd94-822348f4912c"
      },
      "execution_count": null,
      "outputs": [
        {
          "output_type": "execute_result",
          "data": {
            "text/plain": [
              "2"
            ]
          },
          "metadata": {},
          "execution_count": 6
        }
      ]
    },
    {
      "cell_type": "markdown",
      "source": [
        "4. How does Python implement method overloading? Give an example.\n",
        "\n",
        "=> python does not support method overloading because we may overload the methods but can only use the latest defined method but there are different ways to achieve it."
      ],
      "metadata": {
        "id": "4vlLABFQz1tZ"
      }
    },
    {
      "cell_type": "code",
      "source": [
        "def add(datatype,*args):\n",
        "  if datatype=='int':\n",
        "    answer=0\n",
        "  if datatype=='str':\n",
        "    answer=''\n",
        "\n",
        "  for i in args:\n",
        "    answer +=i\n",
        "  print(answer)\n",
        "\n",
        "add('int',1,3,4)\n",
        "add('str','Hello', 'World')"
      ],
      "metadata": {
        "colab": {
          "base_uri": "https://localhost:8080/"
        },
        "id": "iOCbQZNn1xyZ",
        "outputId": "7b2d26fd-95a8-4806-b24a-32052da10b73"
      },
      "execution_count": null,
      "outputs": [
        {
          "output_type": "stream",
          "name": "stdout",
          "text": [
            "8\n",
            "HelloWorld\n"
          ]
        }
      ]
    },
    {
      "cell_type": "markdown",
      "source": [
        "5. What are the three types of access modifiers in Python? How are they denoted?\n",
        "\n",
        "=> Public: Accessible from outside the class. Denoted by no underscore prefix.\n",
        "\n",
        "Protected: Intended for internal use. Denoted by a single underscore prefix (_).\n",
        "\n",
        "Private: Not accessible from outside the class. Denoted by a double underscore prefix (__)"
      ],
      "metadata": {
        "id": "oTb0gFEb2jWA"
      }
    },
    {
      "cell_type": "markdown",
      "source": [
        "6. Describe the five types of inheritance in Python. Provide a simple example of multiple inheritance.\n",
        "\n",
        "=>Single Inheritance: One class inherits from one superclass.\n",
        "\n",
        "Multiple Inheritance: One class inherits from multiple superclasses.\n",
        "\n",
        "Multilevel Inheritance: A class is derived from another derived class.\n",
        "\n",
        "Hierarchical Inheritance: Multiple classes inherit from the same superclass.\n",
        "\n",
        "Hybrid Inheritance: A combination of two or more types of inheritance."
      ],
      "metadata": {
        "id": "r_0QEEqq27Tz"
      }
    },
    {
      "cell_type": "code",
      "source": [
        "#multiple inheritance\n",
        "class parent1:\n",
        "  def method_par(self):\n",
        "    print(\"method 1\")\n",
        "class parent2:\n",
        "  def method_par(self):\n",
        "    print(\"method 2\")\n",
        "class ChildClass(parent1,parent2):\n",
        "  def method(self):\n",
        "    print(\"child class\")\n",
        "\n",
        "obj1=ChildClass()\n",
        "obj1.method()\n",
        "obj1.method_par()"
      ],
      "metadata": {
        "id": "_BUxDdff37wu",
        "colab": {
          "base_uri": "https://localhost:8080/"
        },
        "outputId": "c043ae48-e007-4a31-fa26-d113f2328d39"
      },
      "execution_count": null,
      "outputs": [
        {
          "output_type": "stream",
          "name": "stdout",
          "text": [
            "child class\n",
            "method 1\n"
          ]
        }
      ]
    },
    {
      "cell_type": "markdown",
      "source": [
        "7. What is the Method Resolution Order (MRO) in Python? How can you retrieve it programmatically?\n",
        "\n",
        "=>MRO is the order in which classes are looked up when searching for a method. we can retrieve it using the mro() method or __mro__ attribute."
      ],
      "metadata": {
        "id": "Ok04kW3T5pN5"
      }
    },
    {
      "cell_type": "code",
      "source": [
        "class A:\n",
        "  pass\n",
        "class B(A):\n",
        "  pass\n",
        "class C(A):\n",
        "  pass\n",
        "class D(B,C):\n",
        "  pass\n",
        "\n",
        "print(D.mro())\n"
      ],
      "metadata": {
        "colab": {
          "base_uri": "https://localhost:8080/"
        },
        "id": "9soOlZtC6GY6",
        "outputId": "9485a7e9-28d1-46fa-f0b4-b406e1bec7bc"
      },
      "execution_count": null,
      "outputs": [
        {
          "output_type": "stream",
          "name": "stdout",
          "text": [
            "[<class '__main__.D'>, <class '__main__.B'>, <class '__main__.C'>, <class '__main__.A'>, <class 'object'>]\n"
          ]
        }
      ]
    },
    {
      "cell_type": "markdown",
      "source": [
        "8. Create an abstract base class Shape with an abstract method area(). Then create two subclasses\n",
        "Circle and Rectangle that implement the area() method."
      ],
      "metadata": {
        "id": "tbQ-rxsj6g-G"
      }
    },
    {
      "cell_type": "code",
      "source": [
        "import abc\n",
        "import math\n",
        "class Shape:\n",
        "  @abc.abstractmethod\n",
        "  def area(self):\n",
        "    pass\n",
        "\n",
        "class Circle(Shape):\n",
        "  def __init__(self,radius):\n",
        "    self.radius=radius\n",
        "  def area(self):\n",
        "    return math.pi*self.radius**2\n",
        "\n",
        "class Rectangle(Shape):\n",
        "  def __init__(self,l,b):\n",
        "    self.l=l\n",
        "    self.b=b\n",
        "  def area(self):\n",
        "    return self.l*self.b\n",
        "\n",
        "\n",
        "\n"
      ],
      "metadata": {
        "collapsed": true,
        "id": "klyuP4GS6men"
      },
      "execution_count": null,
      "outputs": []
    },
    {
      "cell_type": "code",
      "source": [
        "circle=Circle(3)\n",
        "circle.area()"
      ],
      "metadata": {
        "colab": {
          "base_uri": "https://localhost:8080/"
        },
        "id": "0-Pw1u0C7vRE",
        "outputId": "cd01558b-bba7-49df-d031-c9fa16fefa23"
      },
      "execution_count": null,
      "outputs": [
        {
          "output_type": "execute_result",
          "data": {
            "text/plain": [
              "28.274333882308138"
            ]
          },
          "metadata": {},
          "execution_count": 20
        }
      ]
    },
    {
      "cell_type": "code",
      "source": [
        "rectangle=Rectangle(5,4)\n",
        "rectangle.area()"
      ],
      "metadata": {
        "colab": {
          "base_uri": "https://localhost:8080/"
        },
        "id": "K9Mm4Lce9EL_",
        "outputId": "acb934c6-ad61-42d8-8725-4fc4a028f681"
      },
      "execution_count": null,
      "outputs": [
        {
          "output_type": "execute_result",
          "data": {
            "text/plain": [
              "20"
            ]
          },
          "metadata": {},
          "execution_count": 21
        }
      ]
    },
    {
      "cell_type": "markdown",
      "source": [
        "9. Demonstrate polymorphism by creating a function that can work with different shape objects to calculate\n",
        "and print their areas."
      ],
      "metadata": {
        "id": "Z_WWcj2k9LPr"
      }
    },
    {
      "cell_type": "code",
      "source": [
        "import math\n",
        "class Shape:\n",
        "\n",
        "  def area(self):\n",
        "    pass\n",
        "\n",
        "class Circle(Shape):\n",
        "  def __init__(self,radius):\n",
        "    self.radius=radius\n",
        "  def area(self):\n",
        "    return math.pi*self.radius**2\n",
        "\n",
        "class Rectangle(Shape):\n",
        "  def __init__(self,l,b):\n",
        "    self.l=l\n",
        "    self.b=b\n",
        "  def area(self):\n",
        "    return self.l*self.b\n",
        "\n",
        "def print_area(shape):\n",
        "  return f\"Area: {shape.area()}\"\n",
        "\n",
        "circle=Circle(2)\n",
        "rectangle=Rectangle(3,4)\n",
        "\n",
        "\n"
      ],
      "metadata": {
        "id": "GiXFfQVT9Rbt"
      },
      "execution_count": null,
      "outputs": []
    },
    {
      "cell_type": "code",
      "source": [
        "print_area(circle)"
      ],
      "metadata": {
        "colab": {
          "base_uri": "https://localhost:8080/",
          "height": 36
        },
        "id": "B2qar5d1ALHy",
        "outputId": "138a1614-06db-4724-d92a-056d0761a5b9"
      },
      "execution_count": null,
      "outputs": [
        {
          "output_type": "execute_result",
          "data": {
            "text/plain": [
              "'Area: 12.566370614359172'"
            ],
            "application/vnd.google.colaboratory.intrinsic+json": {
              "type": "string"
            }
          },
          "metadata": {},
          "execution_count": 28
        }
      ]
    },
    {
      "cell_type": "code",
      "source": [
        "print_area(rectangle)"
      ],
      "metadata": {
        "colab": {
          "base_uri": "https://localhost:8080/",
          "height": 36
        },
        "id": "ayCWsTioAPGW",
        "outputId": "c75a4ff7-1772-4c6e-afea-f4d30a8dd248"
      },
      "execution_count": null,
      "outputs": [
        {
          "output_type": "execute_result",
          "data": {
            "text/plain": [
              "'Area: 12'"
            ],
            "application/vnd.google.colaboratory.intrinsic+json": {
              "type": "string"
            }
          },
          "metadata": {},
          "execution_count": 29
        }
      ]
    },
    {
      "cell_type": "markdown",
      "source": [
        "10. Implement encapsulation in a BankAccount class with private attributes for balance and\n",
        "account_number. Include methods for deposit, withdrawal, and balance inquiry."
      ],
      "metadata": {
        "id": "Zgn_eWQAAw4l"
      }
    },
    {
      "cell_type": "code",
      "source": [
        "class BankAccount:\n",
        "  def __init__(self,account_number,balance):\n",
        "    self.__account_number=account_number\n",
        "    self.__balance=balance\n",
        "\n",
        "  def deposit(self,amount):\n",
        "    self.__balance +=amount\n",
        "\n",
        "  def withdraw(self,amount):\n",
        "    if amount <= self.__balance:\n",
        "      self.__balance -=amount\n",
        "    else:\n",
        "      print(\"Insufficient balance\")\n",
        "\n",
        "  def get_balance(self):\n",
        "    return self.__balance\n",
        "\n",
        "account=BankAccount(\"2299110\",11000)\n",
        "account.deposit(5000)\n",
        "print(\"Deposit: \",account.get_balance())\n",
        "account.withdraw(2000)\n",
        "print(\"Withdraw: \",account.get_balance())"
      ],
      "metadata": {
        "colab": {
          "base_uri": "https://localhost:8080/"
        },
        "id": "KrUQiEaaA1LY",
        "outputId": "134e7d52-ed04-4a9f-92b0-ad4643c2dac3"
      },
      "execution_count": null,
      "outputs": [
        {
          "output_type": "stream",
          "name": "stdout",
          "text": [
            "Deposit:  16000\n",
            "Withdraw:  14000\n"
          ]
        }
      ]
    },
    {
      "cell_type": "markdown",
      "source": [
        "11. Write a class that overrides the __str__ and __add__ magic methods. What will these methods allow\n",
        "you to do?"
      ],
      "metadata": {
        "id": "-NXlwl89DSZW"
      }
    },
    {
      "cell_type": "code",
      "source": [
        "class magic_methods:\n",
        "  def __init__(self,x,y):\n",
        "    self.x=x\n",
        "    self.y=y\n",
        "\n",
        "  def __str__(self):\n",
        "      return f\"magic_methods({self.x}, {self.y})\"\n",
        "\n",
        "  def __add__(self,other):\n",
        "    return magic_methods(self.x+other.x,self.y+other.y)\n",
        "\n",
        "obj1=magic_methods(1,2)\n",
        "obj2=magic_methods(3,4)\n",
        "\n",
        "print(obj1+obj2)"
      ],
      "metadata": {
        "colab": {
          "base_uri": "https://localhost:8080/"
        },
        "id": "UzjFQ6zkDWo_",
        "outputId": "dcd7bc59-25cd-4215-966d-c411a861a96b"
      },
      "execution_count": null,
      "outputs": [
        {
          "output_type": "stream",
          "name": "stdout",
          "text": [
            "magic_methods(4, 6)\n"
          ]
        }
      ]
    },
    {
      "cell_type": "markdown",
      "source": [
        "12. Create a decorator that measures and prints the execution time of a function."
      ],
      "metadata": {
        "id": "guxbS38mILOr"
      }
    },
    {
      "cell_type": "code",
      "source": [
        "import time\n",
        "def timer_decorator(func):\n",
        "  def timer():\n",
        "    start=time.time()\n",
        "    func()\n",
        "    end=time.time()\n",
        "    print(\"the time for xecution\" ,end-start)\n",
        "  return timer\n",
        "\n",
        "\n"
      ],
      "metadata": {
        "id": "k7SZ5L4lEfJ3"
      },
      "execution_count": 36,
      "outputs": []
    },
    {
      "cell_type": "code",
      "source": [
        "@timer_decorator\n",
        "def func_test():\n",
        "  print(11*1000)\n",
        "\n",
        "func_test()"
      ],
      "metadata": {
        "colab": {
          "base_uri": "https://localhost:8080/"
        },
        "id": "Z6PCTLmgJDKT",
        "outputId": "c8eaffff-c75d-4540-89b7-6f528083a46d"
      },
      "execution_count": 42,
      "outputs": [
        {
          "output_type": "stream",
          "name": "stdout",
          "text": [
            "11000\n",
            "the time for xecution 9.322166442871094e-05\n"
          ]
        }
      ]
    },
    {
      "cell_type": "markdown",
      "source": [
        "13. Explain the concept of the Diamond Problem in multiple inheritance. How does Python resolve it?\n",
        "\n",
        "=>The Diamond Problem occurs in multiple inheritance when a class inherits from two classes that have a common base class.\n",
        "\n",
        "Python resolves the Diamond Problem using the Method Resolution Order (MRO). It uses the C3 linearization algorithm, which ensures that classes are checked in a consistent order. You can check the MRO of a class using the __mro__ attribute or the mro() method."
      ],
      "metadata": {
        "id": "xbyi3QycNt0-"
      }
    },
    {
      "cell_type": "code",
      "source": [
        "class A:\n",
        "    pass\n",
        "\n",
        "class B(A):\n",
        "    pass\n",
        "\n",
        "class C(A):\n",
        "    pass\n",
        "\n",
        "class D(B, C):\n",
        "    pass\n",
        "\n",
        "print(D.mro())\n"
      ],
      "metadata": {
        "colab": {
          "base_uri": "https://localhost:8080/"
        },
        "id": "HU_-LBPMOL1O",
        "outputId": "f11ef62e-caa6-4a08-b643-d5e70695888c"
      },
      "execution_count": 39,
      "outputs": [
        {
          "output_type": "stream",
          "name": "stdout",
          "text": [
            "[<class '__main__.D'>, <class '__main__.B'>, <class '__main__.C'>, <class '__main__.A'>, <class 'object'>]\n"
          ]
        }
      ]
    },
    {
      "cell_type": "markdown",
      "source": [
        "14. Write a class method that keeps track of the number of instances created from a class.\n",
        "\n"
      ],
      "metadata": {
        "id": "fgN_BTg8OWDR"
      }
    },
    {
      "cell_type": "code",
      "source": [
        "class InstanceCounter:\n",
        "    instance_count = 0\n",
        "\n",
        "    def __init__(self):\n",
        "        InstanceCounter.instance_count += 1\n",
        "\n",
        "    @classmethod\n",
        "    def get_instance_count(cls):\n",
        "        return cls.instance_count\n",
        "\n",
        "\n",
        "obj1 = InstanceCounter()\n",
        "obj2 = InstanceCounter()\n",
        "print(InstanceCounter.get_instance_count())"
      ],
      "metadata": {
        "colab": {
          "base_uri": "https://localhost:8080/"
        },
        "id": "c_J2BhbpOaPf",
        "outputId": "bdb5e69a-8be3-4f3c-918d-efb46a765a5e"
      },
      "execution_count": 40,
      "outputs": [
        {
          "output_type": "stream",
          "name": "stdout",
          "text": [
            "2\n"
          ]
        }
      ]
    },
    {
      "cell_type": "markdown",
      "source": [
        "15. Implement a static method in a class that checks if a given year is a leap year."
      ],
      "metadata": {
        "id": "IsV7HzQhOpkZ"
      }
    },
    {
      "cell_type": "code",
      "source": [
        "class YearChecker:\n",
        "  @staticmethod\n",
        "  def is_leap_year(year):\n",
        "    if year % 4==0 and year % 100 !=0:\n",
        "      return True\n",
        "    elif year % 400 ==0:\n",
        "      return True\n",
        "    else:\n",
        "      return False\n",
        "\n",
        "YearChecker.is_leap_year(2024)\n",
        "\n"
      ],
      "metadata": {
        "colab": {
          "base_uri": "https://localhost:8080/"
        },
        "id": "IIB7Do4oOsdS",
        "outputId": "4a2070d6-dd8d-466f-f907-442e1aea289d"
      },
      "execution_count": 44,
      "outputs": [
        {
          "output_type": "execute_result",
          "data": {
            "text/plain": [
              "False"
            ]
          },
          "metadata": {},
          "execution_count": 44
        }
      ]
    }
  ]
}
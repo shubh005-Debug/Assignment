{
  "nbformat": 4,
  "nbformat_minor": 0,
  "metadata": {
    "colab": {
      "provenance": []
    },
    "kernelspec": {
      "name": "python3",
      "display_name": "Python 3"
    },
    "language_info": {
      "name": "python"
    }
  },
  "cells": [
    {
      "cell_type": "markdown",
      "source": [
        "1. Can we use Bagging for regression problems.\n",
        "\n",
        "=> Bagging is an ensemble learning technique that can also be applied to regression problem it involves bootstrapping ,training individual models, average pediction"
      ],
      "metadata": {
        "id": "zAP5RbHGb3dv"
      }
    },
    {
      "cell_type": "markdown",
      "source": [
        "2.What is the difference between multiple model training and single model training\n",
        "\n",
        "=>In single model we use a single model on a entire dataset. the prediction are made directly by this one model.\n",
        "whereas in multiple models we train multiple model simultaneously these model can be of same type or different type The predictions from the individual models are then combined in some way (e.g., averaging, voting, weighted averaging, stacking) to produce the final prediction."
      ],
      "metadata": {
        "id": "y-PdJQTlczuD"
      }
    },
    {
      "cell_type": "markdown",
      "source": [
        "3.Explain the concept of feature randomness in Random Forest\n",
        "\n",
        "=>In Random Forest, at each split in a tree, only a random subset of features is considered. This increases diversity among trees and helps reduce correlation and overfitting.\n",
        "\n"
      ],
      "metadata": {
        "id": "DzxuGGGAfWNe"
      }
    },
    {
      "cell_type": "markdown",
      "source": [
        "4.What is OOB (Out-of-Bag) Score.\n",
        "\n",
        "=>Out-of-Bag score is a way to evaluate the model using samples not included in the bootstrap sample for a particular tree. It acts as a built-in cross-validation for Bagging and Random Forest.\n",
        "\n"
      ],
      "metadata": {
        "id": "oIOR_2FLihrN"
      }
    },
    {
      "cell_type": "markdown",
      "source": [
        "5. How can you measure the importance of features in a Random Forest model.\n",
        "\n",
        "=>Mean Decrease in Impurity (Gini Importance)\n",
        "\n",
        "Permutation Importance: Measures drop in model performance when a feature's values are randomly shuffled."
      ],
      "metadata": {
        "id": "pZ-mbfajkXZH"
      }
    },
    {
      "cell_type": "markdown",
      "source": [
        "6. 2 Explain the working principle of a Bagging Classifier\n",
        "\n",
        "=>Creates multiple subsets of training data using bootstrap sampling\n",
        "\n",
        "Trains a base classifier (like Decision Tree) on each subset\n",
        "\n",
        "Aggregates predictions using majority voting (for classification)\n",
        "\n"
      ],
      "metadata": {
        "id": "hPDoJdASk3UW"
      }
    },
    {
      "cell_type": "markdown",
      "source": [
        "7.How do you evaluate a Bagging Classifier’s performance.\n",
        "\n",
        "=>Using metrics like accuracy, precision, recall, F1-score\n",
        "\n",
        "Can also use OOB score, or standard cross-validation"
      ],
      "metadata": {
        "id": "N57KZ_wDlBM0"
      }
    },
    {
      "cell_type": "markdown",
      "source": [
        "8. How does a Bagging Regressor work.\n",
        "\n",
        "=>Trains multiple regressors on bootstrapped samples\n",
        "\n",
        "Final prediction is the average of individual model predictions"
      ],
      "metadata": {
        "id": "BHVOvZicmDX7"
      }
    },
    {
      "cell_type": "markdown",
      "source": [
        "9.  What is the main advantage of ensemble techniques\n",
        "\n",
        "=>They improve accuracy, robustness, and generalization by combining multiple models, thus reducing overfitting (variance) and underfitting (bias)."
      ],
      "metadata": {
        "id": "H8C-HV3imT5J"
      }
    },
    {
      "cell_type": "markdown",
      "source": [
        "10. What is the main challenge of ensemble methods.\n",
        "\n",
        "=>Increased complexity and computational cost\n",
        "\n",
        "Less interpretability than individual models\n",
        "\n",
        "Requires careful tuning to avoid redundancy\n",
        "\n"
      ],
      "metadata": {
        "id": "B43r7mBRmcU5"
      }
    },
    {
      "cell_type": "markdown",
      "source": [
        "11. Explain the key idea behind ensemble techniques.\n",
        "\n",
        "=>Ensemble learning combines multiple models (weak or strong) to create a more accurate and reliable prediction system than any individual model.\n",
        "\n"
      ],
      "metadata": {
        "id": "P8PvHkb7mpVL"
      }
    },
    {
      "cell_type": "markdown",
      "source": [
        "12. What is a Random Forest Classifier.\n",
        "\n",
        "=>Bagging (bootstrap sampling)\n",
        "\n",
        "Feature randomness\n",
        "\n",
        "Combines predictions via majority vote (classification)"
      ],
      "metadata": {
        "id": "M-gFYnSNm31o"
      }
    },
    {
      "cell_type": "markdown",
      "source": [
        "13. What are the main types of ensemble techniques.\n",
        "\n",
        "=>Bagging: Reduces variance\n",
        "\n",
        "Boosting: Reduces bias\n",
        "\n",
        "Stacking: Combines different model types with a meta-model\n",
        "\n"
      ],
      "metadata": {
        "id": "E2i4tVJynCTz"
      }
    },
    {
      "cell_type": "markdown",
      "source": [
        "14.  What is ensemble learning in machine learning.\n",
        "\n",
        "=>A technique that builds a set of models and combines their predictions to improve overall performance, accuracy, and robustness."
      ],
      "metadata": {
        "id": "TGPVZjqBnOzN"
      }
    },
    {
      "cell_type": "markdown",
      "source": [
        "15.  When should we avoid using ensemble methods.\n",
        "\n",
        "=>When interpretability is critical\n",
        "\n",
        "When training time or computational resources are limited\n",
        "\n",
        "If a simple model already gives good performance\n",
        "\n"
      ],
      "metadata": {
        "id": "BajI7hh-nXRU"
      }
    },
    {
      "cell_type": "markdown",
      "source": [
        "16. How does Bagging help in reducing overfitting\n",
        "\n",
        "=>By training on different bootstrap samples, Bagging averages out variance, reducing the chance that a model overfits the training data."
      ],
      "metadata": {
        "id": "9yOdU6wDngIk"
      }
    },
    {
      "cell_type": "markdown",
      "source": [
        "17. Why is Random Forest better than a single Decision Tree\n",
        "\n",
        "=>Less prone to overfitting\n",
        "\n",
        "More stable and accurate\n",
        "\n",
        "Reduces variance by averaging over many trees"
      ],
      "metadata": {
        "id": "seGWUaNNoC8v"
      }
    },
    {
      "cell_type": "markdown",
      "source": [
        "18.  What is the role of bootstrap sampling in Bagging\n",
        "\n",
        "=>Bootstrap sampling ensures diversity by training each model on a different random subset of the training data, enabling variance reduction.\n",
        "\n"
      ],
      "metadata": {
        "id": "a-GMLEqRoKmE"
      }
    },
    {
      "cell_type": "markdown",
      "source": [
        "19.  What are some real-world applications of ensemble techniques\n",
        "\n",
        "=>Finance: Credit scoring, fraud detection\n",
        "\n",
        "Healthcare: Disease prediction, diagnostics\n",
        "\n",
        "E-commerce: Recommendation systems\n",
        "\n",
        "Image recognition, spam detection, customer churn prediction\n",
        "\n"
      ],
      "metadata": {
        "id": "p7Q9uSC3oTYF"
      }
    },
    {
      "cell_type": "markdown",
      "source": [
        "20. 2 What is the difference between Bagging and Boosting\n",
        "\n",
        "=> Bagging\n",
        "Aims to reduce variance and prevent overfitting.\n",
        "\n",
        "Trains multiple models in parallel using different random subsets (bootstrap samples) of the training data.\n",
        "\n",
        "Each model is trained independently.\n",
        "\n",
        "Combines results using majority voting (classification) or averaging (regression).\n",
        "\n",
        "Works best with high-variance, low-bias models (e.g., decision trees).\n",
        "\n",
        "Example: Random Forest\n",
        "\n",
        "\n",
        "Boosting\n",
        "Aims to reduce bias and improve weak learners.\n",
        "\n",
        "Models are trained sequentially, where each new model tries to fix the errors made by the previous one.\n",
        "\n",
        "Gives more weight to misclassified examples.\n",
        "\n",
        "Combines models through weighted voting or summation.\n",
        "\n",
        "Often uses shallow trees (weak learners).\n",
        "\n",
        "Example: AdaBoost, Gradient Boosting, XGBoost"
      ],
      "metadata": {
        "id": "76Ts6AIMod_R"
      }
    },
    {
      "cell_type": "code",
      "source": [
        "#21 Train a Bagging Classifier using Decision Trees on a sample dataset and print model accuracy\n",
        "\n",
        "from sklearn.ensemble import BaggingClassifier\n",
        "from sklearn.tree import DecisionTreeClassifier\n",
        "from sklearn.datasets import make_classification\n",
        "from sklearn.model_selection import train_test_split\n",
        "from sklearn.metrics import accuracy_score\n",
        "\n",
        "X, y = make_classification(n_samples=1000, n_features=20, random_state=1)\n",
        "\n",
        "X_train, X_test, y_train, y_test = train_test_split(X, y, test_size=0.3, random_state=1)\n",
        "\n",
        "bagging_clf = BaggingClassifier(\n",
        "    estimator=DecisionTreeClassifier(),\n",
        "    n_estimators=10,\n",
        "    random_state=1\n",
        ")\n",
        "\n",
        "bagging_clf.fit(X_train, y_train)\n",
        "y_pred = bagging_clf.predict(X_test)\n",
        "\n",
        "accuracy = accuracy_score(y_test, y_pred)\n",
        "print(f\"Bagging Classifier Accuracy: {accuracy}\")"
      ],
      "metadata": {
        "id": "SRixJaXFpOAI",
        "colab": {
          "base_uri": "https://localhost:8080/"
        },
        "outputId": "b2d39113-3f20-4710-974d-1db1e009ee33"
      },
      "execution_count": null,
      "outputs": [
        {
          "output_type": "stream",
          "name": "stdout",
          "text": [
            "Bagging Classifier Accuracy: 0.8\n"
          ]
        }
      ]
    },
    {
      "cell_type": "code",
      "source": [
        "#22. Train a Bagging Regressor using Decision Trees and evaluate using Mean Squared Error (MSE)\n",
        "\n",
        "from sklearn.ensemble import BaggingRegressor\n",
        "from sklearn.tree import DecisionTreeClassifier\n",
        "from sklearn.datasets import make_classification\n",
        "from sklearn.model_selection import train_test_split\n",
        "from sklearn.metrics import mean_squared_error\n",
        "\n",
        "X, y = make_classification(n_samples=1000, n_features=20, random_state=1)\n",
        "\n",
        "X_train, X_test, y_train, y_test = train_test_split(X, y, test_size=0.3, random_state=1)\n",
        "\n",
        "bagging_clf = BaggingRegressor(\n",
        "    estimator=DecisionTreeClassifier(),\n",
        "    n_estimators=10,\n",
        "    random_state=1\n",
        ")\n",
        "\n",
        "bagging_clf.fit(X_train, y_train)\n",
        "y_pred = bagging_clf.predict(X_test)\n",
        "\n",
        "mse= mean_squared_error(y_test, y_pred)\n",
        "print(f\"Bagging regressor mse: {mse}\")"
      ],
      "metadata": {
        "colab": {
          "base_uri": "https://localhost:8080/"
        },
        "id": "SFOhcOhJuh8y",
        "outputId": "31c06b1e-7bfc-4ebf-ecc1-635f5c448852"
      },
      "execution_count": null,
      "outputs": [
        {
          "output_type": "stream",
          "name": "stdout",
          "text": [
            "Bagging regressor mse: 0.13833333333333334\n"
          ]
        }
      ]
    },
    {
      "cell_type": "code",
      "source": [
        "#23 Train a Random Forest Classifier on the Breast Cancer dataset and print feature importance scores\n",
        "\n",
        "from sklearn.datasets import load_breast_cancer\n",
        "from sklearn.ensemble import RandomForestClassifier\n",
        "from sklearn.model_selection import train_test_split\n",
        "import pandas as pd\n",
        "import numpy as np\n",
        "\n",
        "\n",
        "data = load_breast_cancer()\n",
        "X = pd.DataFrame(data.data, columns=data.feature_names)\n",
        "y = data.target\n",
        "\n",
        "X_train, X_test, y_train, y_test = train_test_split(X, y, test_size=0.3, random_state=1)\n",
        "\n",
        "rf_classifier = RandomForestClassifier(n_estimators=100, random_state=1)\n",
        "rf_classifier.fit(X_train, y_train)\n",
        "\n",
        "feature_importances = rf_classifier.feature_importances_\n",
        "\n",
        "importance_df=pd.DataFrame({\n",
        "    'Feature':X.columns,\n",
        "    'Importance':feature_importances\n",
        "\n",
        "}).sort_values(by='Importance',ascending=False)\n",
        "\n",
        "print(\"Feature Importance Scores:\",importance_df)\n"
      ],
      "metadata": {
        "colab": {
          "base_uri": "https://localhost:8080/"
        },
        "id": "Bpy7DchsxcDw",
        "outputId": "95680f7e-5e0c-45d9-a577-8b58caf7258e"
      },
      "execution_count": null,
      "outputs": [
        {
          "output_type": "stream",
          "name": "stdout",
          "text": [
            "Feature Importance Scores:                     Feature  Importance\n",
            "22          worst perimeter    0.141142\n",
            "27     worst concave points    0.125184\n",
            "23               worst area    0.115155\n",
            "20             worst radius    0.089507\n",
            "7       mean concave points    0.081823\n",
            "2            mean perimeter    0.073608\n",
            "6            mean concavity    0.068204\n",
            "0               mean radius    0.058146\n",
            "3                 mean area    0.047602\n",
            "13               area error    0.031727\n",
            "10             radius error    0.023007\n",
            "26          worst concavity    0.019958\n",
            "21            worst texture    0.019246\n",
            "1              mean texture    0.015433\n",
            "25        worst compactness    0.014217\n",
            "28           worst symmetry    0.010095\n",
            "24         worst smoothness    0.008627\n",
            "29  worst fractal dimension    0.006844\n",
            "12          perimeter error    0.006349\n",
            "17     concave points error    0.005690\n",
            "5          mean compactness    0.005603\n",
            "4           mean smoothness    0.005513\n",
            "19  fractal dimension error    0.004340\n",
            "18           symmetry error    0.003774\n",
            "14         smoothness error    0.003728\n",
            "15        compactness error    0.003327\n",
            "16          concavity error    0.003301\n",
            "11            texture error    0.003219\n",
            "8             mean symmetry    0.002839\n",
            "9    mean fractal dimension    0.002790\n"
          ]
        }
      ]
    },
    {
      "cell_type": "code",
      "source": [
        "#24 Train a Random Forest Regressor and compare its performance with a single Decision Tree\n",
        "\n",
        "from sklearn.datasets import fetch_california_housing\n",
        "from sklearn.model_selection import train_test_split\n",
        "from sklearn.ensemble import RandomForestRegressor\n",
        "from sklearn.tree import DecisionTreeRegressor\n",
        "from sklearn.metrics import mean_squared_error\n",
        "\n",
        "data = fetch_california_housing()\n",
        "X = data.data\n",
        "y = data.target\n",
        "\n",
        "X_train, X_test, y_train, y_test = train_test_split(X, y, test_size=0.3, random_state=1)\n",
        "\n",
        "rf_regressor = RandomForestRegressor(n_estimators=100, random_state=1)\n",
        "dt_regressor = DecisionTreeRegressor(random_state=1)\n",
        "dt_regressor.fit(X_train, y_train)\n",
        "rf_regressor.fit(X_train, y_train)\n",
        "\n",
        "dt_predictions = dt_regressor.predict(X_test)\n",
        "rf_predictions = rf_regressor.predict(X_test)\n",
        "\n",
        "dt_mse = mean_squared_error(y_test, dt_predictions)\n",
        "rf_mse = mean_squared_error(y_test, rf_predictions)\n",
        "\n",
        "print(f\"Decision Tree MSE: {dt_mse}\")\n",
        "print(f\"Random Forest MSE: {rf_mse}\")\n",
        "\n",
        "\n"
      ],
      "metadata": {
        "colab": {
          "base_uri": "https://localhost:8080/"
        },
        "id": "5dwo4gdk5qm5",
        "outputId": "9398f26f-6f6f-48ae-9107-ae67f7637548"
      },
      "execution_count": null,
      "outputs": [
        {
          "output_type": "stream",
          "name": "stdout",
          "text": [
            "Decision Tree MSE: 0.49077395341813623\n",
            "Random Forest MSE: 0.26094116173135906\n"
          ]
        }
      ]
    },
    {
      "cell_type": "code",
      "source": [
        "#25. Compute the Out-of-Bag (OOB) Score for a Random Forest Classifier\n",
        "\n",
        "from sklearn.datasets import load_breast_cancer\n",
        "from sklearn.ensemble import RandomForestClassifier\n",
        "from sklearn.model_selection import train_test_split\n",
        "\n",
        "data = load_breast_cancer()\n",
        "X = data.data\n",
        "y = data.target\n",
        "\n",
        "X_train, X_test, y_train, y_test = train_test_split(X, y, test_size=0.3, random_state=42)\n",
        "\n",
        "rf = RandomForestClassifier(n_estimators=100, oob_score=True, random_state=1, bootstrap=True)\n",
        "rf.fit(X_train, y_train)\n",
        "\n",
        "\n",
        "print(f\"Out-of-Bag (OOB) Score: {rf.oob_score_:.4f}\")\n"
      ],
      "metadata": {
        "colab": {
          "base_uri": "https://localhost:8080/"
        },
        "id": "O77ufs7pBcK9",
        "outputId": "8c81d2dd-41e6-4762-d57c-85ab69978c94"
      },
      "execution_count": null,
      "outputs": [
        {
          "output_type": "stream",
          "name": "stdout",
          "text": [
            "Out-of-Bag (OOB) Score: 0.9497\n"
          ]
        }
      ]
    },
    {
      "cell_type": "code",
      "source": [
        "#Train a Bagging Classifier using SVM as a base estimator and print accuracy\n",
        "from sklearn.datasets import load_breast_cancer\n",
        "from sklearn.ensemble import BaggingClassifier\n",
        "from sklearn.svm import SVC\n",
        "from sklearn.model_selection import train_test_split\n",
        "from sklearn.metrics import accuracy_score\n",
        "\n",
        "data = load_breast_cancer()\n",
        "X = data.data\n",
        "y = data.target\n",
        "\n",
        "X_train, X_test, y_train, y_test = train_test_split(X, y, test_size=0.3, random_state=1)\n",
        "\n",
        "bagging_clf=BaggingClassifier(\n",
        "    estimator=SVC(kernel='rbf',probability=True,random_state=1),\n",
        "    n_estimators=10,\n",
        "    random_state=1\n",
        ")\n",
        "\n",
        "bagging_clf.fit(X_train, y_train)\n",
        "y_pred = bagging_clf.predict(X_test)\n",
        "\n",
        "accuracy=accuracy_score(y_test, y_pred)\n",
        "print(f\"Bagging Classifier Accuracy: {accuracy:.3f}\")\n"
      ],
      "metadata": {
        "colab": {
          "base_uri": "https://localhost:8080/"
        },
        "id": "dAOB77ysHBcJ",
        "outputId": "8baf91bb-4082-4370-eb52-5383ed6b5286"
      },
      "execution_count": null,
      "outputs": [
        {
          "output_type": "stream",
          "name": "stdout",
          "text": [
            "Bagging Classifier Accuracy: 0.901\n"
          ]
        }
      ]
    },
    {
      "cell_type": "code",
      "source": [
        "#27 Train a Random Forest Classifier with different numbers of trees and compare accuracy\n",
        "\n",
        "from sklearn.datasets import load_breast_cancer\n",
        "from sklearn.ensemble import RandomForestClassifier\n",
        "from sklearn.model_selection import train_test_split\n",
        "from sklearn.metrics import accuracy_score\n",
        "\n",
        "data = load_breast_cancer()\n",
        "X = data.data\n",
        "y = data.target\n",
        "\n",
        "X_train, X_test, y_train, y_test = train_test_split(X, y, test_size=0.3, random_state=1)\n",
        "\n",
        "n_estimators_list = [10, 50, 100, 200]\n",
        "result=[]\n",
        "\n",
        "for n in n_estimators_list:\n",
        "    rf=RandomForestClassifier(n_estimators=n, random_state=1)\n",
        "    rf.fit(X_train, y_train)\n",
        "    y_pred = rf.predict(X_test)\n",
        "    accuracy = accuracy_score(y_test, y_pred)\n",
        "    result.append((n, accuracy))\n",
        "\n",
        "for n, accuracy in result:\n",
        "    print(f\"Number of Estimators: {n}, Accuracy: {accuracy:.3f}\")"
      ],
      "metadata": {
        "colab": {
          "base_uri": "https://localhost:8080/"
        },
        "id": "EA1KJb1YJify",
        "outputId": "1ae0fc21-1fe2-4c7e-f772-8aaaf4a14b00"
      },
      "execution_count": null,
      "outputs": [
        {
          "output_type": "stream",
          "name": "stdout",
          "text": [
            "Number of Estimators: 10, Accuracy: 0.936\n",
            "Number of Estimators: 50, Accuracy: 0.942\n",
            "Number of Estimators: 100, Accuracy: 0.947\n",
            "Number of Estimators: 200, Accuracy: 0.953\n"
          ]
        }
      ]
    },
    {
      "cell_type": "code",
      "source": [
        "#28 Train a Bagging Classifier using Logistic Regression as a base estimator and print AUC score\n",
        "\n",
        "from sklearn.datasets import load_breast_cancer\n",
        "from sklearn.linear_model import LogisticRegression\n",
        "from sklearn.ensemble import BaggingClassifier\n",
        "from sklearn.model_selection import train_test_split\n",
        "from sklearn.metrics import roc_auc_score\n",
        "\n",
        "data = load_breast_cancer()\n",
        "X, y = data.data, data.target\n",
        "\n",
        "\n",
        "X_train, X_test, y_train, y_test = train_test_split(X, y, test_size=0.3, random_state=42)\n",
        "\n",
        "base_lr = LogisticRegression(solver='liblinear', random_state=2)\n",
        "bagging_clf = BaggingClassifier(estimator=base_lr,\n",
        "                                 n_estimators=50,\n",
        "                                 random_state=2)\n",
        "bagging_clf.fit(X_train, y_train)\n",
        "y_probs = bagging_clf.predict_proba(X_test)[:, 1]\n",
        "\n",
        "auc_score = roc_auc_score(y_test, y_probs)\n",
        "\n",
        "print(f\"Bagging Classifier (Logistic Regression base) AUC Score: {auc_score:.4f}\")\n",
        "\n"
      ],
      "metadata": {
        "colab": {
          "base_uri": "https://localhost:8080/"
        },
        "id": "-Ey4Pq8fKzKC",
        "outputId": "844744e1-5f2a-44ad-c32a-dfbf5490d699"
      },
      "execution_count": null,
      "outputs": [
        {
          "output_type": "stream",
          "name": "stdout",
          "text": [
            "Bagging Classifier (Logistic Regression base) AUC Score: 0.9981\n"
          ]
        }
      ]
    },
    {
      "cell_type": "code",
      "source": [
        "#29 Train a Random Forest Regressor and analyze feature importance scores\n",
        "\n",
        "# Imports\n",
        "from sklearn.datasets import fetch_california_housing\n",
        "from sklearn.ensemble import RandomForestRegressor\n",
        "from sklearn.model_selection import train_test_split\n",
        "import pandas as pd\n",
        "\n",
        "data = fetch_california_housing()\n",
        "X = pd.DataFrame(data.data, columns=data.feature_names)\n",
        "y = data.target\n",
        "\n",
        "X_train, X_test, y_train, y_test = train_test_split(X, y, test_size=0.3, random_state=42)\n",
        "\n",
        "rf = RandomForestRegressor(n_estimators=100, random_state=2)\n",
        "rf.fit(X_train, y_train)\n",
        "\n",
        "\n",
        "importances = rf.feature_importances_\n",
        "\n",
        "feature_importance_df = pd.DataFrame({\n",
        "    'Feature': X.columns,\n",
        "    'Importance': importances\n",
        "}).sort_values(by='Importance', ascending=False)\n",
        "\n",
        "# Print results\n",
        "print(\" Feature Importances in Random Forest Regressor:\")\n",
        "print(feature_importance_df)\n"
      ],
      "metadata": {
        "colab": {
          "base_uri": "https://localhost:8080/"
        },
        "id": "gexSnyoBTtUF",
        "outputId": "cd16a484-ccc2-4c9d-d689-d799f3b9ff11"
      },
      "execution_count": null,
      "outputs": [
        {
          "output_type": "stream",
          "name": "stdout",
          "text": [
            " Feature Importances in Random Forest Regressor:\n",
            "      Feature  Importance\n",
            "0      MedInc    0.525119\n",
            "5    AveOccup    0.138609\n",
            "7   Longitude    0.085672\n",
            "6    Latitude    0.085504\n",
            "1    HouseAge    0.055015\n",
            "2    AveRooms    0.048274\n",
            "4  Population    0.031788\n",
            "3   AveBedrms    0.030019\n"
          ]
        }
      ]
    },
    {
      "cell_type": "code",
      "source": [
        "#30.Train an ensemble model using both Bagging and Random Forest and compare accuracy\n",
        "\n",
        "from sklearn.datasets import load_breast_cancer\n",
        "from sklearn.model_selection import train_test_split\n",
        "from sklearn.ensemble import BaggingClassifier, RandomForestClassifier\n",
        "from sklearn.tree import DecisionTreeClassifier\n",
        "from sklearn.metrics import accuracy_score\n",
        "\n",
        "data = load_breast_cancer()\n",
        "X, y = data.data, data.target\n",
        "\n",
        "X_train, X_test, y_train, y_test = train_test_split(X, y, test_size=0.3, random_state=1)\n",
        "\n",
        "\n",
        "bagging_model = BaggingClassifier(estimator=DecisionTreeClassifier(),\n",
        "                                  n_estimators=100,\n",
        "                                  random_state=1)\n",
        "bagging_model.fit(X_train, y_train)\n",
        "bagging_preds = bagging_model.predict(X_test)\n",
        "bagging_acc = accuracy_score(y_test, bagging_preds)\n",
        "\n",
        "\n",
        "rf_model = RandomForestClassifier(n_estimators=100, random_state=1)\n",
        "rf_model.fit(X_train, y_train)\n",
        "rf_preds = rf_model.predict(X_test)\n",
        "rf_acc = accuracy_score(y_test, rf_preds)\n",
        "\n",
        "print(f\" BaggingClassifier Accuracy:      {bagging_acc:.4f}\")\n",
        "print(f\" RandomForestClassifier Accuracy: {rf_acc:.4f}\")\n",
        "\n"
      ],
      "metadata": {
        "colab": {
          "base_uri": "https://localhost:8080/"
        },
        "id": "2I-mKcb1UKf-",
        "outputId": "f0a73423-7d18-462b-cc12-ebfb282168a0"
      },
      "execution_count": null,
      "outputs": [
        {
          "output_type": "stream",
          "name": "stdout",
          "text": [
            " BaggingClassifier Accuracy:      0.9532\n",
            " RandomForestClassifier Accuracy: 0.9474\n"
          ]
        }
      ]
    },
    {
      "cell_type": "code",
      "source": [
        "#31. Train a Random Forest Classifier and tune hyperparameters using GridSearchCV\n",
        "\n",
        "from sklearn.datasets import load_breast_cancer\n",
        "from sklearn.ensemble import RandomForestClassifier\n",
        "from sklearn.model_selection import GridSearchCV, train_test_split\n",
        "from sklearn.metrics import accuracy_score\n",
        "\n",
        "data = load_breast_cancer()\n",
        "X, y = data.data, data.target\n",
        "\n",
        "X_train, X_test, y_train, y_test = train_test_split(X, y, test_size=0.3, random_state=1)\n",
        "\n",
        "rf = RandomForestClassifier(random_state=1)\n",
        "\n",
        "param_grid = {\n",
        "    'n_estimators': [50, 100, 200],\n",
        "    'max_depth': [None, 5, 10],\n",
        "    'max_features': ['sqrt', 'log2']\n",
        "}\n",
        "\n",
        "grid_search = GridSearchCV(estimator=rf,\n",
        "                           param_grid=param_grid,\n",
        "                           cv=5,\n",
        "                           n_jobs=-1,\n",
        "                           scoring='accuracy')\n",
        "\n",
        "grid_search.fit(X_train, y_train)\n",
        "\n",
        "print(\"Best Hyperparameters:\")\n",
        "print(grid_search.best_params_)\n",
        "\n",
        "best_rf = grid_search.best_estimator_\n",
        "y_pred = best_rf.predict(X_test)\n",
        "acc = accuracy_score(y_test, y_pred)\n",
        "\n",
        "print(f\" Accuracy on Test Set: {acc:.4f}\")\n",
        "\n"
      ],
      "metadata": {
        "colab": {
          "base_uri": "https://localhost:8080/"
        },
        "id": "k56UB4n3WgKJ",
        "outputId": "9206c3fd-3e80-4a4f-da60-8e2dcea3736e"
      },
      "execution_count": null,
      "outputs": [
        {
          "output_type": "stream",
          "name": "stdout",
          "text": [
            "Best Hyperparameters:\n",
            "{'max_depth': 5, 'max_features': 'log2', 'n_estimators': 200}\n",
            " Accuracy on Test Set: 0.9474\n"
          ]
        }
      ]
    },
    {
      "cell_type": "code",
      "source": [
        "#32.  Train a Bagging Regressor with different numbers of base estimators and compare performance\n",
        "\n",
        "from sklearn.datasets import fetch_california_housing\n",
        "from sklearn.ensemble import BaggingRegressor\n",
        "from sklearn.tree import DecisionTreeRegressor\n",
        "from sklearn.model_selection import train_test_split\n",
        "from sklearn.metrics import mean_squared_error, r2_score\n",
        "\n",
        "\n",
        "data = fetch_california_housing()\n",
        "X, y = data.data, data.target\n",
        "\n",
        "\n",
        "X_train, X_test, y_train, y_test = train_test_split(X, y, test_size=0.3, random_state=42)\n",
        "\n",
        "\n",
        "n_estimators_list = [1, 10, 50, 100, 200]\n",
        "results = []\n",
        "\n",
        "for n in n_estimators_list:\n",
        "    bagging_model = BaggingRegressor(\n",
        "        estimator=DecisionTreeRegressor(),\n",
        "        n_estimators=n,\n",
        "        random_state=42\n",
        "    )\n",
        "    bagging_model.fit(X_train, y_train)\n",
        "    y_pred = bagging_model.predict(X_test)\n",
        "\n",
        "    mse = mean_squared_error(y_test, y_pred)\n",
        "    r2 = r2_score(y_test, y_pred)\n",
        "\n",
        "    results.append((n, mse, r2))\n",
        "\n",
        "\n",
        "print(\"Performance of BaggingRegressor with Different Estimator Counts:\")\n",
        "for n, mse, r2 in results:\n",
        "    print(f\" - {n} estimators: MSE = {mse:.4f}, R² = {r2:.4f}\")\n"
      ],
      "metadata": {
        "colab": {
          "base_uri": "https://localhost:8080/"
        },
        "id": "5oQ3OGKbe_aP",
        "outputId": "e0dfd968-ec03-4a0d-d3fa-9246ef76cb3f"
      },
      "execution_count": null,
      "outputs": [
        {
          "output_type": "stream",
          "name": "stdout",
          "text": [
            "Performance of BaggingRegressor with Different Estimator Counts:\n",
            " - 1 estimators: MSE = 0.5583, R² = 0.5746\n",
            " - 10 estimators: MSE = 0.2862, R² = 0.7819\n",
            " - 50 estimators: MSE = 0.2579, R² = 0.8035\n",
            " - 100 estimators: MSE = 0.2568, R² = 0.8043\n",
            " - 200 estimators: MSE = 0.2542, R² = 0.8064\n"
          ]
        }
      ]
    },
    {
      "cell_type": "code",
      "source": [
        "#33.Train a Random Forest Classifier and analyze misclassified samples\n"
      ],
      "metadata": {
        "id": "oi7yyNm0hFVk"
      },
      "execution_count": null,
      "outputs": []
    },
    {
      "cell_type": "code",
      "source": [
        "#34. Train a Bagging Classifier and compare its performance with a single Decision Tree Classifier\n",
        "\n",
        "import numpy as np\n",
        "import pandas as pd\n",
        "from sklearn.datasets import load_iris\n",
        "from sklearn.tree import DecisionTreeClassifier\n",
        "from sklearn.ensemble import BaggingClassifier\n",
        "from sklearn.model_selection import train_test_split\n",
        "from sklearn.metrics import accuracy_score, classification_report\n",
        "\n",
        "data = load_iris()\n",
        "X = data.data\n",
        "y = data.target\n",
        "X_train, X_test, y_train, y_test = train_test_split(X, y, test_size=0.2, random_state=1)\n",
        "\n",
        "tree = DecisionTreeClassifier(random_state=1)\n",
        "tree.fit(X_train, y_train)\n",
        "y_pred_tree = tree.predict(X_test)\n",
        "acc_tree = accuracy_score(y_test, y_pred_tree)\n",
        "print(f\"Decision Tree Accuracy: {acc_tree:.4f}\")\n",
        "\n",
        "bagging = BaggingClassifier(\n",
        "    estimator=DecisionTreeClassifier(),\n",
        "    n_estimators=100,\n",
        "    max_samples=0.8,\n",
        "    bootstrap=True,\n",
        "    random_state=12\n",
        ")\n",
        "bagging.fit(X_train, y_train)\n",
        "y_pred_bag = bagging.predict(X_test)\n",
        "acc_bag = accuracy_score(y_test, y_pred_bag)\n",
        "print(f\"Bagging Classifier Accuracy: {acc_bag:.4f}\")\n",
        "\n",
        "print(\"\\n--- Classification Report: Decision Tree ---\")\n",
        "print(classification_report(y_test, y_pred_tree, target_names=data.target_names))\n",
        "\n",
        "print(\"\\n--- Classification Report: Bagging Classifier ---\")\n",
        "print(classification_report(y_test, y_pred_bag, target_names=data.target_names))\n",
        "\n",
        "\n"
      ],
      "metadata": {
        "colab": {
          "base_uri": "https://localhost:8080/"
        },
        "id": "uYHE1Nj27QWV",
        "outputId": "ebe013b4-6a9c-4eff-cdf0-555b8330aa41"
      },
      "execution_count": 1,
      "outputs": [
        {
          "output_type": "stream",
          "name": "stdout",
          "text": [
            "Decision Tree Accuracy: 0.9667\n",
            "Bagging Classifier Accuracy: 0.9667\n",
            "\n",
            "--- Classification Report: Decision Tree ---\n",
            "              precision    recall  f1-score   support\n",
            "\n",
            "      setosa       1.00      1.00      1.00        11\n",
            "  versicolor       1.00      0.92      0.96        13\n",
            "   virginica       0.86      1.00      0.92         6\n",
            "\n",
            "    accuracy                           0.97        30\n",
            "   macro avg       0.95      0.97      0.96        30\n",
            "weighted avg       0.97      0.97      0.97        30\n",
            "\n",
            "\n",
            "--- Classification Report: Bagging Classifier ---\n",
            "              precision    recall  f1-score   support\n",
            "\n",
            "      setosa       1.00      1.00      1.00        11\n",
            "  versicolor       1.00      0.92      0.96        13\n",
            "   virginica       0.86      1.00      0.92         6\n",
            "\n",
            "    accuracy                           0.97        30\n",
            "   macro avg       0.95      0.97      0.96        30\n",
            "weighted avg       0.97      0.97      0.97        30\n",
            "\n"
          ]
        }
      ]
    },
    {
      "cell_type": "code",
      "source": [
        "#35. Train a Random Forest Classifier and visualize the confusion matrix\n",
        "\n",
        "from sklearn.datasets import load_iris\n",
        "from sklearn.model_selection import train_test_split\n",
        "from sklearn.ensemble import RandomForestClassifier\n",
        "from sklearn.metrics import confusion_matrix, ConfusionMatrixDisplay\n",
        "import matplotlib.pyplot as plt\n",
        "\n",
        "iris = load_iris()\n",
        "X, y = iris.data, iris.target\n",
        "\n",
        "X_train, X_test, y_train, y_test = train_test_split(X, y, test_size=0.2, random_state=1)\n",
        "\n",
        "\n",
        "clf = RandomForestClassifier(n_estimators=100, random_state=1)\n",
        "clf.fit(X_train, y_train)\n",
        "\n",
        "y_pred = clf.predict(X_test)\n",
        "\n",
        "cm = confusion_matrix(y_test, y_pred, labels=clf.classes_)\n",
        "disp = ConfusionMatrixDisplay(confusion_matrix=cm, display_labels=iris.target_names)\n",
        "disp.plot(cmap=plt.cm.Blues)\n",
        "plt.title(\"Confusion Matrix - Random Forest\")\n",
        "plt.show()\n"
      ],
      "metadata": {
        "colab": {
          "base_uri": "https://localhost:8080/",
          "height": 472
        },
        "id": "U51JncqUEdcZ",
        "outputId": "3f6b9d1c-fd94-471f-a02b-727ed9ff9633"
      },
      "execution_count": 2,
      "outputs": [
        {
          "output_type": "display_data",
          "data": {
            "text/plain": [
              "<Figure size 640x480 with 2 Axes>"
            ],
            "image/png": "[encoded data removed]"
          },
          "metadata": {}
        }
      ]
    },
    {
      "cell_type": "code",
      "source": [
        "#36.  Train a Stacking Classifier using Decision Trees, SVM, and Logistic Regression, and compare accuracy\n",
        "\n",
        "from sklearn.ensemble import StackingClassifier\n",
        "from sklearn.linear_model import LogisticRegression\n",
        "from sklearn.tree import DecisionTreeClassifier\n",
        "from sklearn.svm import SVC\n",
        "from sklearn.datasets import load_iris\n",
        "from sklearn.model_selection import train_test_split\n",
        "from sklearn.metrics import accuracy_score\n",
        "\n",
        "X, y = load_iris(return_X_y=True)\n",
        "X_train, X_test, y_train, y_test = train_test_split(X, y, random_state=42)\n",
        "\n",
        "estimators = [\n",
        "    ('dt', DecisionTreeClassifier()),\n",
        "    ('svm', SVC(probability=True))\n",
        "]\n",
        "\n",
        "clf = StackingClassifier(estimators=estimators, final_estimator=LogisticRegression())\n",
        "clf.fit(X_train, y_train)\n",
        "y_pred = clf.predict(X_test)\n",
        "\n",
        "print(\"Stacking Classifier Accuracy:\", accuracy_score(y_test, y_pred))\n"
      ],
      "metadata": {
        "colab": {
          "base_uri": "https://localhost:8080/"
        },
        "id": "7aDx2Z23IKb3",
        "outputId": "f5a6e321-5550-43c7-c858-b132d5eafa87"
      },
      "execution_count": 6,
      "outputs": [
        {
          "output_type": "stream",
          "name": "stdout",
          "text": [
            "Stacking Classifier Accuracy: 1.0\n"
          ]
        }
      ]
    },
    {
      "cell_type": "code",
      "source": [
        "#37.\n",
        "\n",
        "from sklearn.ensemble import RandomForestClassifier\n",
        "import numpy as np\n",
        "\n",
        "data = load_iris()\n",
        "X, y = data.data, data.target\n",
        "X_train, X_test, y_train, y_test = train_test_split(X, y, test_size=0.3,random_state=1)\n",
        "\n",
        "clf = RandomForestClassifier(random_state=2)\n",
        "clf.fit(X_train, y_train)\n",
        "\n",
        "importances = clf.feature_importances_\n",
        "indices = np.argsort(importances)[::-1]\n",
        "\n",
        "print(\"Top 5 Feature Importances:\")\n",
        "for i in range(len(importances)):\n",
        "    print(f\"Feature {indices[i]}: {importances[indices[i]]:.4f}\")\n"
      ],
      "metadata": {
        "colab": {
          "base_uri": "https://localhost:8080/"
        },
        "id": "mJpLNMzsJJhu",
        "outputId": "0659ce69-7e30-4383-c1dc-9aa670f5eba1"
      },
      "execution_count": 11,
      "outputs": [
        {
          "output_type": "stream",
          "name": "stdout",
          "text": [
            "Top 5 Feature Importances:\n",
            "Feature 3: 0.4500\n",
            "Feature 2: 0.4385\n",
            "Feature 0: 0.0793\n",
            "Feature 1: 0.0322\n"
          ]
        }
      ]
    },
    {
      "cell_type": "code",
      "source": [
        "#38.\n",
        "\n",
        "from sklearn.ensemble import BaggingClassifier\n",
        "from sklearn.metrics import classification_report\n",
        "\n",
        "bag_clf = BaggingClassifier(random_state=2)\n",
        "bag_clf.fit(X_train, y_train)\n",
        "y_pred = bag_clf.predict(X_test)\n",
        "\n",
        "print(\"Classification Report:\\n\", classification_report(y_test, y_pred))\n"
      ],
      "metadata": {
        "colab": {
          "base_uri": "https://localhost:8080/"
        },
        "id": "S43gb4JDLJdu",
        "outputId": "d37da8fe-ff35-4f8e-aa94-168bb1247a68"
      },
      "execution_count": 13,
      "outputs": [
        {
          "output_type": "stream",
          "name": "stdout",
          "text": [
            "Classification Report:\n",
            "               precision    recall  f1-score   support\n",
            "\n",
            "           0       1.00      1.00      1.00        14\n",
            "           1       0.94      0.94      0.94        18\n",
            "           2       0.92      0.92      0.92        13\n",
            "\n",
            "    accuracy                           0.96        45\n",
            "   macro avg       0.96      0.96      0.96        45\n",
            "weighted avg       0.96      0.96      0.96        45\n",
            "\n"
          ]
        }
      ]
    },
    {
      "cell_type": "code",
      "source": [
        "#39\n",
        "import matplotlib.pyplot as plt\n",
        "\n",
        "depths = range(1, 21)\n",
        "accuracies = []\n",
        "\n",
        "for d in depths:\n",
        "    model = RandomForestClassifier(max_depth=d, random_state=1)\n",
        "    model.fit(X_train, y_train)\n",
        "    accuracies.append(model.score(X_test, y_test))\n",
        "\n",
        "plt.plot(depths, accuracies, marker='o')\n",
        "plt.title(\"Effect of max_depth on Accuracy\")\n",
        "plt.xlabel(\"Max Depth\")\n",
        "plt.ylabel(\"Accuracy\")\n",
        "plt.grid(True)\n",
        "plt.show()\n"
      ],
      "metadata": {
        "colab": {
          "base_uri": "https://localhost:8080/",
          "height": 472
        },
        "id": "fMftwcvYLWFL",
        "outputId": "056a2769-6783-4c5c-fe73-ae47baf11154"
      },
      "execution_count": 15,
      "outputs": [
        {
          "output_type": "display_data",
          "data": {
            "text/plain": [
              "<Figure size 640x480 with 1 Axes>"
            ],
            "image/png": "[encoded data removed]"
          },
          "metadata": {}
        }
      ]
    },
    {
      "cell_type": "code",
      "source": [
        "#40.\n",
        "\n",
        "from sklearn.ensemble import BaggingRegressor\n",
        "from sklearn.tree import DecisionTreeRegressor\n",
        "from sklearn.neighbors import KNeighborsRegressor\n",
        "from sklearn.datasets import load_diabetes\n",
        "from sklearn.model_selection import train_test_split\n",
        "from sklearn.metrics import mean_squared_error\n",
        "\n",
        "X, y = load_diabetes(return_X_y=True)\n",
        "X_train, X_test, y_train, y_test = train_test_split(X, y, random_state=2)\n",
        "\n",
        "for name, base in [('Decision Tree', DecisionTreeRegressor()), ('KNeighbors', KNeighborsRegressor())]:\n",
        "    model = BaggingRegressor(estimator=base, random_state=1)\n",
        "    model.fit(X_train, y_train)\n",
        "    y_pred = model.predict(X_test)\n",
        "    print(f\"{name} MSE: {mean_squared_error(y_test, y_pred):.2f}\")\n"
      ],
      "metadata": {
        "colab": {
          "base_uri": "https://localhost:8080/"
        },
        "id": "FOEo7DoaMxj3",
        "outputId": "62e6b92d-b0b0-4f5e-f46e-b763225d9c94"
      },
      "execution_count": 17,
      "outputs": [
        {
          "output_type": "stream",
          "name": "stdout",
          "text": [
            "Decision Tree MSE: 3881.16\n",
            "KNeighbors MSE: 4123.20\n"
          ]
        }
      ]
    },
    {
      "cell_type": "code",
      "source": [
        "#41.\n",
        "from sklearn.metrics import roc_auc_score\n",
        "\n",
        "y_test_bin = label_binarize(y_test, classes=[0, 1, 2])\n",
        "y_score = clf.predict_proba(X_test)\n",
        "\n",
        "roc_auc = roc_auc_score(y_test_bin, y_score, multi_class='ovr')\n",
        "print(\"ROC-AUC Score (OVR):\", roc_auc)\n"
      ],
      "metadata": {
        "id": "lYjIUls5ZYXw"
      },
      "execution_count": null,
      "outputs": []
    },
    {
      "cell_type": "code",
      "source": [
        "#42.\n",
        "\n",
        "from sklearn.model_selection import cross_val_score\n",
        "\n",
        "bag_clf = BaggingClassifier(random_state=42)\n",
        "cv_scores = cross_val_score(bag_clf, X, y, cv=5, scoring='accuracy')\n",
        "\n",
        "print(\"Cross-validation scores:\", cv_scores)\n",
        "print(\"Mean Accuracy:\", cv_scores.mean())\n"
      ],
      "metadata": {
        "colab": {
          "base_uri": "https://localhost:8080/"
        },
        "id": "rVjqQOTXZn8r",
        "outputId": "2589b194-c20a-4f58-9b20-32b9d593e894"
      },
      "execution_count": 19,
      "outputs": [
        {
          "output_type": "stream",
          "name": "stderr",
          "text": [
            "/usr/local/lib/python3.11/dist-packages/sklearn/model_selection/_split.py:805: UserWarning: The least populated class in y has only 1 members, which is less than n_splits=5.\n",
            "  warnings.warn(\n"
          ]
        },
        {
          "output_type": "stream",
          "name": "stdout",
          "text": [
            "Cross-validation scores: [0.         0.02247191 0.         0.         0.        ]\n",
            "Mean Accuracy: 0.00449438202247191\n"
          ]
        }
      ]
    },
    {
      "cell_type": "code",
      "source": [
        "#43\n",
        "from sklearn.metrics import precision_recall_curve, average_precision_score\n",
        "from sklearn.preprocessing import label_binarize\n",
        "\n",
        "y_bin = label_binarize(y_test, classes=[0, 1, 2])\n",
        "y_score = clf.predict_proba(X_test)\n",
        "\n",
        "for i in range(y_bin.shape[1]):\n",
        "    precision, recall  = precision_recall_curve(y_bin[:, i], y_score[:, i])\n",
        "    avg_prec = average_precision_score(y_bin[:, i], y_score[:, i])\n",
        "    plt.plot(recall, precision, label=f\"Class {i} (AP={avg_prec:.2f})\")\n",
        "\n",
        "plt.xlabel(\"Recall\")\n",
        "plt.ylabel(\"Precision\")\n",
        "plt.title(\"Precision-Recall Curve\")\n",
        "plt.legend()\n",
        "plt.grid(True)\n",
        "plt.show()\n"
      ],
      "metadata": {
        "id": "6HZ4U5yrZyeP"
      },
      "execution_count": null,
      "outputs": []
    },
    {
      "cell_type": "code",
      "source": [
        "#44.\n",
        "stack_model = StackingClassifier(\n",
        "    estimators=[('rf', RandomForestClassifier(random_state=42))],\n",
        "    final_estimator=LogisticRegression()\n",
        ")\n",
        "stack_model.fit(X_train, y_train)\n",
        "y_pred = stack_model.predict(X_test)\n",
        "print(\"Stacking (RF + LR) Accuracy:\", accuracy_score(y_test, y_pred))\n"
      ],
      "metadata": {
        "colab": {
          "base_uri": "https://localhost:8080/"
        },
        "id": "019HB91DZ4Iz",
        "outputId": "6fbb947b-a305-48fe-af9e-27700a355f2c"
      },
      "execution_count": 22,
      "outputs": [
        {
          "output_type": "stream",
          "name": "stderr",
          "text": [
            "/usr/local/lib/python3.11/dist-packages/sklearn/model_selection/_split.py:805: UserWarning: The least populated class in y has only 1 members, which is less than n_splits=5.\n",
            "  warnings.warn(\n",
            "/usr/local/lib/python3.11/dist-packages/sklearn/model_selection/_validation.py:1380: RuntimeWarning: Number of classes in training fold (167) does not match total number of classes (186). Results may not be appropriate for your use case. To fix this, use a cross-validation technique resulting in properly stratified folds\n",
            "  warnings.warn(\n",
            "/usr/local/lib/python3.11/dist-packages/sklearn/model_selection/_validation.py:1380: RuntimeWarning: Number of classes in training fold (166) does not match total number of classes (186). Results may not be appropriate for your use case. To fix this, use a cross-validation technique resulting in properly stratified folds\n",
            "  warnings.warn(\n",
            "/usr/local/lib/python3.11/dist-packages/sklearn/model_selection/_validation.py:1380: RuntimeWarning: Number of classes in training fold (168) does not match total number of classes (186). Results may not be appropriate for your use case. To fix this, use a cross-validation technique resulting in properly stratified folds\n",
            "  warnings.warn(\n",
            "/usr/local/lib/python3.11/dist-packages/sklearn/model_selection/_validation.py:1380: RuntimeWarning: Number of classes in training fold (171) does not match total number of classes (186). Results may not be appropriate for your use case. To fix this, use a cross-validation technique resulting in properly stratified folds\n",
            "  warnings.warn(\n",
            "/usr/local/lib/python3.11/dist-packages/sklearn/model_selection/_validation.py:1380: RuntimeWarning: Number of classes in training fold (170) does not match total number of classes (186). Results may not be appropriate for your use case. To fix this, use a cross-validation technique resulting in properly stratified folds\n",
            "  warnings.warn(\n"
          ]
        },
        {
          "output_type": "stream",
          "name": "stdout",
          "text": [
            "Stacking (RF + LR) Accuracy: 0.0\n"
          ]
        }
      ]
    },
    {
      "cell_type": "code",
      "source": [
        "#45.\n",
        "sample_sizes = [0.5, 0.7, 1.0]\n",
        "for size in sample_sizes:\n",
        "    reg = BaggingRegressor(max_samples=size, random_state=42)\n",
        "    reg.fit(X_train, y_train)\n",
        "    y_pred = reg.predict(X_test)\n",
        "    mse = mean_squared_error(y_test, y_pred)\n",
        "    print(f\"Bootstrap Sample Size {size}: MSE = {mse:.2f}\")\n",
        "\n"
      ],
      "metadata": {
        "colab": {
          "base_uri": "https://localhost:8080/"
        },
        "id": "iUF8YAppaEHe",
        "outputId": "e73589ea-192a-48e3-b8a2-579d07c51b1c"
      },
      "execution_count": 21,
      "outputs": [
        {
          "output_type": "stream",
          "name": "stdout",
          "text": [
            "Bootstrap Sample Size 0.5: MSE = 3923.12\n",
            "Bootstrap Sample Size 0.7: MSE = 3774.78\n",
            "Bootstrap Sample Size 1.0: MSE = 3881.16\n"
          ]
        }
      ]
    }
  ]
}
{
  "nbformat": 4,
  "nbformat_minor": 0,
  "metadata": {
    "colab": {
      "provenance": []
    },
    "kernelspec": {
      "name": "python3",
      "display_name": "Python 3"
    },
    "language_info": {
      "name": "python"
    }
  },
  "cells": [
    {
      "cell_type": "markdown",
      "source": [
        "1.Discuss string slicing and provide examples.\n",
        "\n",
        "=>String slicing allows you  to get a part of string you can choose where to start and end the slice.\n",
        "syntax: string[start:end:step]\n",
        "\n"
      ],
      "metadata": {
        "id": "j0TMG1ifN-cj"
      }
    },
    {
      "cell_type": "code",
      "source": [
        "text=\"HelloWorld\"\n",
        "# slicing from index 0 to 3\n",
        "substring=text[0:3]\n",
        "print(substring)\n",
        "\n",
        "#slicing with step\n",
        "substring=text[0:5:2]\n",
        "print(substring)\n",
        "\n",
        "#slicing from the end\n",
        "substring=text[-5:]\n",
        "print(substring)\n"
      ],
      "metadata": {
        "colab": {
          "base_uri": "https://localhost:8080/"
        },
        "id": "DP8_nFeARL2r",
        "outputId": "12c77e41-98b6-41de-e13f-2b67cd7d8178"
      },
      "execution_count": 4,
      "outputs": [
        {
          "output_type": "stream",
          "name": "stdout",
          "text": [
            "Hel\n",
            "Hlo\n",
            "Hello\n"
          ]
        }
      ]
    },
    {
      "cell_type": "markdown",
      "source": [
        "2.Explain the key features of lists in python.\n",
        "\n",
        "=> list can store any data types and hetrogenous data structure.\n",
        "\n",
        "=> Ordered: Elements have a specific order in a list.\n",
        "\n",
        "=>Mutable: You can modify elements.\n",
        "\n",
        "=>Duplicate: you can have the same item multiple times.\n",
        "\n",
        "=>Dynaamic: You can add or remove itmes easily."
      ],
      "metadata": {
        "id": "CSRzU6LzTKVh"
      }
    },
    {
      "cell_type": "code",
      "source": [
        "list=[1,2,3,\"hello\",True,3+5j]\n",
        "print(list)"
      ],
      "metadata": {
        "colab": {
          "base_uri": "https://localhost:8080/"
        },
        "id": "gPjsh-XmVY7D",
        "outputId": "f01a6c24-16c6-4947-a05e-bedd4a92bba4"
      },
      "execution_count": 5,
      "outputs": [
        {
          "output_type": "stream",
          "name": "stdout",
          "text": [
            "[1, 2, 3, 'hello', True, (3+5j)]\n"
          ]
        }
      ]
    },
    {
      "cell_type": "markdown",
      "source": [
        "3.Describes how to access,modify and delete elements in a list with examples.\n",
        "\n",
        "=> Accessing: Get an item using its position(index).\n",
        "\n",
        "=>Modifing: change an item by using its position.\n",
        "\n",
        "=>Deleting: Remove an item from the list"
      ],
      "metadata": {
        "id": "yaBq61b7VtHA"
      }
    },
    {
      "cell_type": "markdown",
      "source": [],
      "metadata": {
        "id": "YbDuCinrVqlC"
      }
    },
    {
      "cell_type": "code",
      "source": [
        "list =[1,2,3,4]\n",
        "\n",
        "#Accessing\n",
        "print(list[1])\n",
        "\n",
        "#modifying\n",
        "list[2]=6\n",
        "print(list)\n",
        "\n",
        "#deleting\n",
        "del list[0]\n",
        "print(list)\n",
        "\n"
      ],
      "metadata": {
        "colab": {
          "base_uri": "https://localhost:8080/"
        },
        "id": "JD3DX-F4WnP_",
        "outputId": "a499aed7-e64a-492d-83fd-aa6e5f027a7b"
      },
      "execution_count": 9,
      "outputs": [
        {
          "output_type": "stream",
          "name": "stdout",
          "text": [
            "2\n",
            "[1, 2, 6, 4]\n",
            "[2, 6, 4]\n"
          ]
        }
      ]
    },
    {
      "cell_type": "markdown",
      "source": [
        "4.Compare and contrast tuples and lists with examples.\n",
        "\n",
        "=>Lists are created with [],while tuples use().\n",
        "\n",
        "=>Lists are mutable,but tuples are immutable.\n",
        "\n",
        "=>Both list and tuple are store any data type and are hetrogenous data structure.\n",
        "\n",
        "=>tuples are faster than lists because of its immutability"
      ],
      "metadata": {
        "id": "zldcQuUtX7LR"
      }
    },
    {
      "cell_type": "code",
      "source": [
        "list=[1,2,\"hello\",True,2.3,3+5j]\n",
        "tuple=(1,2,\"hello\",True,2.3,3+5j)\n",
        "print(list)\n",
        "print(tuple)"
      ],
      "metadata": {
        "colab": {
          "base_uri": "https://localhost:8080/"
        },
        "id": "XAyZjLjhaKdC",
        "outputId": "f3de1617-a84e-4236-c3f1-38d899ae089b"
      },
      "execution_count": 11,
      "outputs": [
        {
          "output_type": "stream",
          "name": "stdout",
          "text": [
            "[1, 2, 'hello', True, 2.3, (3+5j)]\n",
            "(1, 2, 'hello', True, 2.3, (3+5j))\n"
          ]
        }
      ]
    },
    {
      "cell_type": "markdown",
      "source": [
        "5. Describe the key features of sets and provide examples of their use.\n",
        "\n",
        "=>Unordered: The items don't have a specific order.\n",
        "\n",
        "=>Mutable: you can add or remove items.\n",
        "\n",
        "=>No duplicates: Each item must be unique.\n",
        "\n",
        "=>indexing will not work."
      ],
      "metadata": {
        "id": "971Hx_UTaxYy"
      }
    },
    {
      "cell_type": "code",
      "source": [
        "set={1,2,3,3}\n",
        "print(set)\n",
        "\n",
        "set.add(4)\n",
        "print(set)\n",
        "\n",
        "set.remove(3)\n",
        "print(set)"
      ],
      "metadata": {
        "colab": {
          "base_uri": "https://localhost:8080/"
        },
        "id": "a7zVEfwwfuBo",
        "outputId": "5ba406e7-85df-459b-c0bf-e6040a48bd1d"
      },
      "execution_count": 15,
      "outputs": [
        {
          "output_type": "stream",
          "name": "stdout",
          "text": [
            "{1, 2, 3}\n",
            "{1, 2, 3, 4}\n",
            "{1, 2, 4}\n"
          ]
        }
      ]
    },
    {
      "cell_type": "markdown",
      "source": [
        "6.Discuss the use cases of tuples and sets in python programming.\n",
        "\n",
        "tuples\n",
        "\n",
        "=>Immutable Collections:tuples are ideal for storing fixed collections of  items that should not change.\n",
        "\n",
        "=>Function arguments: tuples can be used to return multiple values from a function or to group related values together when passing arguments.\n",
        "\n",
        "=>Dictionary Keys: tuples are immutable they can be used as keys in dictionaries allowing for complex key-value pairs.\n",
        "\n",
        "=>performance: tuples can be slightly faster than lists for iteration due to their fixed size and immmutability making them a better choice for read-only data\n",
        "\n",
        "Sets\n",
        "\n",
        "=>Duplicates: sets automatically eliminate duplicate items in a set .this is useful for data cleanup or ensuring uniqueness in a dataset.\n",
        "\n",
        "=>Mathematical Set operation: sets support operation like union,intersection and difference which are useful for solving problems involving groups.\n",
        "\n",
        "=>Fast Data Processing: sets can be used in algorithms that rquire a lot of data processing especially when dealinh with large datasets where duplicates are not allowed.\n",
        "\n",
        "=>Membership Testing: Stes provide a fst way to check if an item is part of a collection with average time comlexity of o(1) for lookups.\n"
      ],
      "metadata": {
        "id": "or2hPj95hBuo"
      }
    },
    {
      "cell_type": "markdown",
      "source": [
        "7.Describe how to add, modify and delete items in a dictionary with examples.\n",
        "\n",
        "=> Adding: Assign a value to a new key.\n",
        "\n",
        "=>Modify: change the value of an existing key.\n",
        "\n",
        "=>Deleting: use del or the pop() method."
      ],
      "metadata": {
        "id": "_dJ4lgg4ogzm"
      }
    },
    {
      "cell_type": "code",
      "source": [
        "dict={'a':1, 'b':2}\n",
        "\n",
        "#adding\n",
        "dict['c']=3\n",
        "print(dict)\n",
        "\n",
        "#modify\n",
        "dict['a']=12\n",
        "print(dict)\n",
        "\n",
        "#deleting\n",
        "del dict['b']\n",
        "dict.pop('c')\n",
        "print(dict)"
      ],
      "metadata": {
        "colab": {
          "base_uri": "https://localhost:8080/"
        },
        "id": "46U0cPtZpf7-",
        "outputId": "b73fd498-7663-4000-817d-312b2778272e"
      },
      "execution_count": 16,
      "outputs": [
        {
          "output_type": "stream",
          "name": "stdout",
          "text": [
            "{'a': 1, 'b': 2, 'c': 3}\n",
            "{'a': 12, 'b': 2, 'c': 3}\n",
            "{'a': 12}\n"
          ]
        }
      ]
    },
    {
      "cell_type": "markdown",
      "source": [
        "8. Discuss the importance of dictionary keys being immutable and provide examples.\n",
        "\n",
        "=>Consistency: keys must not change while being used in a dictionary to ensure consistent access.if keys could change it would be difficult to retrieve values correctly\n",
        "\n",
        "=>Efficincy: Immutable keys allow for faster lookups a hash table for dictionaries and immutable keys can be hashed which speeds up searching for values\n",
        "\n",
        "=>Preventing errors: Using immutable types as keys prevents accidental changes that could lead to bugs if a key could change it might point to the wrong value.\n",
        "\n",
        "=>logical structure: immutable keys create a clear and logical structure in the data model, making it easier to understand and maintain the code.\n",
        "\n",
        "=>Tuples as a key: Tuples which can contain multiple values are commonly used as keys because their immutablity allows grouping related data"
      ],
      "metadata": {
        "id": "Mt1VrZiTqMRk"
      }
    },
    {
      "cell_type": "markdown",
      "source": [],
      "metadata": {
        "id": "DLcBmwAZgmdw"
      }
    },
    {
      "cell_type": "code",
      "source": [
        "my_dict={('x','y'): 1}\n",
        "\n",
        "print(my_dict)\n",
        "\n",
        "\n"
      ],
      "metadata": {
        "colab": {
          "base_uri": "https://localhost:8080/"
        },
        "id": "kzg1CTnatMlD",
        "outputId": "a198a8cd-4d67-430e-89b2-aa7cf66de8ce"
      },
      "execution_count": 24,
      "outputs": [
        {
          "output_type": "stream",
          "name": "stdout",
          "text": [
            "{('x', 'y'): 1}\n"
          ]
        }
      ]
    },
    {
      "cell_type": "code",
      "source": [
        "dict={\"name\":\"vinod\",\"email\":\"vinod@123\"}\n",
        "dict"
      ],
      "metadata": {
        "colab": {
          "base_uri": "https://localhost:8080/"
        },
        "id": "tFh26SmlvxZG",
        "outputId": "9fb9503e-3731-4320-a93f-d2f39659d0c5"
      },
      "execution_count": 26,
      "outputs": [
        {
          "output_type": "execute_result",
          "data": {
            "text/plain": [
              "{'name': 'vinod', 'email': 'vinod@123'}"
            ]
          },
          "metadata": {},
          "execution_count": 26
        }
      ]
    },
    {
      "cell_type": "code",
      "source": [
        "#zip function\n",
        "\n",
        "students=[\"arun\",\"vinod\",\"shyam\"]\n",
        "marks=[80,90,100]\n",
        "\n",
        "for i in zip(students,marks):\n",
        "  print(i)"
      ],
      "metadata": {
        "colab": {
          "base_uri": "https://localhost:8080/"
        },
        "id": "VMy9kZfowJLD",
        "outputId": "9a068a2d-ff02-4c72-b361-565f9945e2c5"
      },
      "execution_count": 27,
      "outputs": [
        {
          "output_type": "stream",
          "name": "stdout",
          "text": [
            "('arun', 80)\n",
            "('vinod', 90)\n",
            "('shyam', 100)\n"
          ]
        }
      ]
    },
    {
      "cell_type": "code",
      "source": [
        "seq = {'a','b','c','d'}\n",
        "\n",
        "result=dict.fromkeys(seq,1)\n",
        "\n",
        "print(result)\n"
      ],
      "metadata": {
        "colab": {
          "base_uri": "https://localhost:8080/"
        },
        "id": "Yfp2btdSvOoI",
        "outputId": "4ec9d6c5-38af-48d6-8aab-bdcd60093e89"
      },
      "execution_count": 23,
      "outputs": [
        {
          "output_type": "stream",
          "name": "stdout",
          "text": [
            "{'d': 1, 'b': 1, 'a': 1, 'c': 1}\n"
          ]
        }
      ]
    }
  ]
}
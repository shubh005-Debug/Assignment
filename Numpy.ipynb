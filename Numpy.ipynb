{
  "nbformat": 4,
  "nbformat_minor": 0,
  "metadata": {
    "colab": {
      "provenance": []
    },
    "kernelspec": {
      "name": "python3",
      "display_name": "Python 3"
    },
    "language_info": {
      "name": "python"
    }
  },
  "cells": [
    {
      "cell_type": "markdown",
      "source": [
        "THEORY QUESTION"
      ],
      "metadata": {
        "id": "i_tIx4OWTPv6"
      }
    },
    {
      "cell_type": "markdown",
      "source": [
        "1. Explain the purpose and advantages of NumPy in scientific computing and data analysis. How does it\n",
        "enhance Python's capabilities for numerical operations?\n",
        "\n",
        "=>NumPy is a powerful library for numerical computing in Python. It provides support for large, multi-dimensional arrays and matrices, along with a variety of mathematical functions to operate on these arrays. The advantages of NumPy in scientific computing and data analysis include:\n",
        "\n",
        "Efficient Storage and Performance: NumPy arrays are stored in contiguous blocks of memory, which allows for efficient access and manipulation of large datasets, as opposed to Python lists, which are less memory-efficient.\n",
        "\n",
        "Vectorized Operations: NumPy supports element-wise operations on arrays without needing explicit loops, enabling concise and faster computations compared to standard Python loops. This feature is known as vectorization and greatly enhances performance for numerical tasks.\n",
        "\n",
        "Broad Functionality: NumPy provides a wide array of mathematical functions for operations like linear algebra, statistics, Fourier analysis, and random sampling.\n",
        "\n",
        "Interoperability: It integrates well with other libraries in the Python ecosystem, such as SciPy, Pandas, and Matplotlib, making it essential for data analysis, machine learning, and scientific research."
      ],
      "metadata": {
        "id": "kKW2ctxDPCdu"
      }
    },
    {
      "cell_type": "markdown",
      "source": [
        "2. Compare and contrast np.mean() and np.average() functions in NumPy. When would you use one over the\n",
        "other?\n",
        "\n",
        "=>Both np.mean() and np.average() are used to compute the average of an array, but there are key differences:\n",
        "\n",
        "np.mean(): It simply calculates the arithmetic mean (sum of elements divided by the number of elements) along the specified axis.\n",
        "\n",
        "\n",
        "np.average(): It is more flexible and allows you to specify a weights array, which gives different weights to elements when calculating the mean.\n",
        "\n",
        "\n",
        "When to Use:\n",
        "Use np.mean() when you just need the simple arithmetic mean.\n",
        "Use np.average() when you need to calculate a weighted average or specify which elements should have more influence on the result."
      ],
      "metadata": {
        "id": "7FWklUh2PnDp"
      }
    },
    {
      "cell_type": "markdown",
      "source": [
        "3. Describe the methods for reversing a NumPy array along different axes. Provide examples for 1D and 2D\n",
        "arrays.\n",
        "\n",
        "=>To reverse a NumPy array along a specific axis, we can use slicing and the ::-1 notation."
      ],
      "metadata": {
        "id": "vplX8futP8DC"
      }
    },
    {
      "cell_type": "code",
      "source": [
        "#1D array\n",
        "import numpy as np\n",
        "arr = np.array([1, 2, 3, 4, 5])\n",
        "reversed_arr = arr[::-1]\n",
        "print(reversed_arr)\n"
      ],
      "metadata": {
        "colab": {
          "base_uri": "https://localhost:8080/"
        },
        "id": "WDeR-VZdQI5t",
        "outputId": "ab36d3bf-fe5c-4e78-bfd7-d6bd09fb96c4"
      },
      "execution_count": 2,
      "outputs": [
        {
          "output_type": "stream",
          "name": "stdout",
          "text": [
            "[5 4 3 2 1]\n"
          ]
        }
      ]
    },
    {
      "cell_type": "markdown",
      "source": [],
      "metadata": {
        "id": "k1cpWxfCQgqs"
      }
    },
    {
      "cell_type": "code",
      "source": [
        "#2D array\n",
        "arr2d = np.array([[1, 2, 3], [4, 5, 6], [7, 8, 9]])\n",
        "reversed_rows = arr2d[::-1, :]\n",
        "print(reversed_rows)\n"
      ],
      "metadata": {
        "colab": {
          "base_uri": "https://localhost:8080/"
        },
        "id": "EDW8FEO2QZAC",
        "outputId": "32823939-efcb-443d-8062-159d64c24f71"
      },
      "execution_count": 3,
      "outputs": [
        {
          "output_type": "stream",
          "name": "stdout",
          "text": [
            "[[7 8 9]\n",
            " [4 5 6]\n",
            " [1 2 3]]\n"
          ]
        }
      ]
    },
    {
      "cell_type": "markdown",
      "source": [
        "4. How can you determine the data type of elements in a NumPy array? Discuss the importance of data types\n",
        "in memory management and performance.\n",
        "\n",
        "=>To determine the data type of a NumPy array, use the dtype attribute:\n",
        "\n",
        "arr = np.array([1, 2, 3, 4])\n",
        "\n",
        "print(arr.dtype)\n",
        "\n",
        "Importance of Data Types:\n",
        "Memory Management: Different data types consume different amounts of memory. For example, an int32 array consumes less memory than an int64 array. Choosing an appropriate data type can significantly reduce memory usage.\n",
        "Performance: Operations on smaller data types  can be faster because they require less memory bandwidth.\n"
      ],
      "metadata": {
        "id": "DXZeyxoYQtX2"
      }
    },
    {
      "cell_type": "markdown",
      "source": [
        "5. Define ndarrays in NumPy and explain their key features. How do they differ from standard Python lists?\n",
        "\n",
        "=>An ndarray (N-dimensional array) is the central data structure in NumPy. Key features include:\n",
        "\n",
        "Multidimensional: Can represent arrays with more than one dimension.\n",
        "Homogeneous: All elements of an ndarray have the same data type\n",
        "Efficient Memory Usage: Memory is allocated in a contiguous block, reducing overhead and enabling fast access.\n",
        "Vectorized Operations: Supports element-wise operations and broadcasting, which are much faster than standard Python loops.\n",
        "\n",
        "Differences from Python Lists:\n",
        "Homogeneity: NumPy arrays require all elements to have the same type, while Python lists can store different data types.\n",
        "Performance: NumPy arrays are optimized for performance with large datasets, whereas Python lists are slower and less memory efficient for numerical tasks."
      ],
      "metadata": {
        "id": "eSM-d-laRJxI"
      }
    },
    {
      "cell_type": "markdown",
      "source": [
        "6. Analyze the performance benefits of NumPy arrays over Python lists for large-scale numerical operations.\n",
        "\n",
        "=>Memory Efficiency: NumPy arrays are stored in contiguous memory blocks, which makes them more memory efficient and allows for faster element access compared to Python lists, which store references to objects.\n",
        "\n",
        "Speed: NumPy uses optimized C and Fortran libraries under the hood, which means it can perform complex operations much faster than Python lists, especially for large datasets.\n",
        "\n",
        "Vectorization: NumPy eliminates the need for explicit loops over elements  enabling operations to be performed in parallel at a low level, which speeds up computation."
      ],
      "metadata": {
        "id": "gbNidwqZRZAv"
      }
    },
    {
      "cell_type": "markdown",
      "source": [
        "7. Compare vstack() and hstack() functions in NumPy. Provide examples demonstrating their usage and\n",
        "output.\n",
        "\n",
        "=>np.vstack(): Stacks arrays vertically. It takes a sequence of arrays and stacks them row-wise"
      ],
      "metadata": {
        "id": "b3pki0CXRiLS"
      }
    },
    {
      "cell_type": "code",
      "source": [
        "arr1 = np.array([1, 2, 3])\n",
        "arr2 = np.array([4, 5, 6])\n",
        "result = np.vstack((arr1, arr2))\n",
        "print(result)\n",
        "\n"
      ],
      "metadata": {
        "colab": {
          "base_uri": "https://localhost:8080/"
        },
        "id": "8zu6TIrFR1pM",
        "outputId": "158d211b-69e8-4575-9e8e-8fe6e4889592"
      },
      "execution_count": 4,
      "outputs": [
        {
          "output_type": "stream",
          "name": "stdout",
          "text": [
            "[[1 2 3]\n",
            " [4 5 6]]\n"
          ]
        }
      ]
    },
    {
      "cell_type": "code",
      "source": [
        "#np.hstack(): Stacks arrays horizontally  It stacks arrays side by side\n",
        "result = np.hstack((arr1, arr2))\n",
        "print(result)\n"
      ],
      "metadata": {
        "colab": {
          "base_uri": "https://localhost:8080/"
        },
        "id": "U-L7SlykR55y",
        "outputId": "fca3bd21-e94b-494e-c6a4-c286cf1a8d94"
      },
      "execution_count": 5,
      "outputs": [
        {
          "output_type": "stream",
          "name": "stdout",
          "text": [
            "[1 2 3 4 5 6]\n"
          ]
        }
      ]
    },
    {
      "cell_type": "markdown",
      "source": [
        "8. Explain the differences between fliplr() and flipud() methods in NumPy, including their effects on various\n",
        "array dimensions."
      ],
      "metadata": {
        "id": "VAVTVc17SEhY"
      }
    },
    {
      "cell_type": "code",
      "source": [
        "#np.fliplr(): Flips an array left to right\n",
        "arr = np.array([[1, 2, 3], [4, 5, 6]])\n",
        "flipped_lr = np.fliplr(arr)\n",
        "print(flipped_lr)\n",
        "\n"
      ],
      "metadata": {
        "colab": {
          "base_uri": "https://localhost:8080/"
        },
        "id": "AlurCcVCSLdh",
        "outputId": "df7d6d1a-f8a2-436e-e5a1-fa4074fbd6eb"
      },
      "execution_count": 6,
      "outputs": [
        {
          "output_type": "stream",
          "name": "stdout",
          "text": [
            "[[3 2 1]\n",
            " [6 5 4]]\n"
          ]
        }
      ]
    },
    {
      "cell_type": "code",
      "source": [
        "#np.flipud(): Flips an array upside down\n",
        "flipped_ud = np.flipud(arr)\n",
        "print(flipped_ud)\n",
        "\n"
      ],
      "metadata": {
        "colab": {
          "base_uri": "https://localhost:8080/"
        },
        "id": "tpdOEPgKSSQL",
        "outputId": "123d01ea-2c3a-472a-cfe0-d627dc321427"
      },
      "execution_count": 7,
      "outputs": [
        {
          "output_type": "stream",
          "name": "stdout",
          "text": [
            "[[4 5 6]\n",
            " [1 2 3]]\n"
          ]
        }
      ]
    },
    {
      "cell_type": "markdown",
      "source": [
        "9. Discuss the functionality of the array_split() method in NumPy. How does it handle uneven splits?\n",
        "\n",
        "=>The array_split() method is used to split an array into multiple sub-arrays. It can handle uneven splits by distributing the elements as evenly as possible."
      ],
      "metadata": {
        "id": "e97BuDEESZ9E"
      }
    },
    {
      "cell_type": "code",
      "source": [
        "arr = np.array([1, 2, 3, 4, 5])\n",
        "result = np.array_split(arr, 3)\n",
        "print(result)\n",
        "\n"
      ],
      "metadata": {
        "colab": {
          "base_uri": "https://localhost:8080/"
        },
        "id": "tpv6IpQlScx8",
        "outputId": "c001c0cb-a16f-4314-8827-9813d9325991"
      },
      "execution_count": 8,
      "outputs": [
        {
          "output_type": "stream",
          "name": "stdout",
          "text": [
            "[array([1, 2]), array([3, 4]), array([5])]\n"
          ]
        }
      ]
    },
    {
      "cell_type": "markdown",
      "source": [
        "10. Explain the concepts of vectorization and broadcasting in NumPy. How do they contribute to efficient array\n",
        "operations?\n"
      ],
      "metadata": {
        "id": "eD5HVrxiSmc6"
      }
    },
    {
      "cell_type": "code",
      "source": [
        "#Vectorization: Refers to the ability to apply operations on entire arrays without explicit loops. This is possible because NumPy internally loops over elements in a highly optimized way, offering substantial performance gains.\n",
        "arr = np.array([1, 2, 3])\n",
        "result = arr * 2\n",
        "print(result)\n"
      ],
      "metadata": {
        "colab": {
          "base_uri": "https://localhost:8080/"
        },
        "id": "EOo7-6QkSs31",
        "outputId": "34005b8d-b444-4db6-8730-cca3311352bd"
      },
      "execution_count": 9,
      "outputs": [
        {
          "output_type": "stream",
          "name": "stdout",
          "text": [
            "[2 4 6]\n"
          ]
        }
      ]
    },
    {
      "cell_type": "code",
      "source": [
        "#Broadcasting: Allows NumPy to perform operations on arrays of different shapes in a way that is semantically valid. It automatically \"broadcasts\" the smaller array to match the shape of the larger one.\n",
        "arr1 = np.array([1, 2, 3])\n",
        "arr2 = np.array([10])\n",
        "result = arr1 + arr2\n",
        "print(result)\n"
      ],
      "metadata": {
        "colab": {
          "base_uri": "https://localhost:8080/"
        },
        "id": "zESnWyhHS4Ph",
        "outputId": "595953da-b2a8-4e25-a6f3-aec29415160b"
      },
      "execution_count": 10,
      "outputs": [
        {
          "output_type": "stream",
          "name": "stdout",
          "text": [
            "[11 12 13]\n"
          ]
        }
      ]
    },
    {
      "cell_type": "markdown",
      "source": [
        "PRACTICAL QUESTION"
      ],
      "metadata": {
        "id": "GzktJQ3ITYuy"
      }
    },
    {
      "cell_type": "markdown",
      "source": [
        "1. Create a 3x3 NumPy array with random integers between 1 and 100. Then, interchange its rows and columns.\n",
        "\n"
      ],
      "metadata": {
        "id": "rBvGFMIrTfts"
      }
    },
    {
      "cell_type": "code",
      "source": [
        "import numpy as np\n",
        "\n",
        "\n",
        "array_3x3 = np.random.randint(1, 101, (3, 3))\n",
        "\n",
        "\n",
        "array_transposed = array_3x3.T\n",
        "\n",
        "print(\"Original Array:\\n\", array_3x3)\n",
        "print(\"Transposed Array:\\n\", array_transposed)\n"
      ],
      "metadata": {
        "colab": {
          "base_uri": "https://localhost:8080/"
        },
        "id": "WeRiTlL_TiWk",
        "outputId": "2901bf39-da38-46bc-de39-a0fd4cc6039e"
      },
      "execution_count": 11,
      "outputs": [
        {
          "output_type": "stream",
          "name": "stdout",
          "text": [
            "Original Array:\n",
            " [[38 18 18]\n",
            " [87 48  7]\n",
            " [85 45 67]]\n",
            "Transposed Array:\n",
            " [[38 87 85]\n",
            " [18 48 45]\n",
            " [18  7 67]]\n"
          ]
        }
      ]
    },
    {
      "cell_type": "markdown",
      "source": [],
      "metadata": {
        "id": "vj4QAmUPTE3t"
      }
    },
    {
      "cell_type": "markdown",
      "source": [
        "2. Generate a 1D NumPy array with 10 elements. Reshape it into a 2x5 array, then into a 5x2 array.\n",
        "\n"
      ],
      "metadata": {
        "id": "m3WEgARyTqNq"
      }
    },
    {
      "cell_type": "code",
      "source": [
        "array_1d = np.arange(10)\n",
        "array_2x5 = array_1d.reshape(2, 5)\n",
        "array_5x2 = array_1d.reshape(5, 2)\n",
        "\n",
        "print(\"1D Array:\\n\", array_1d)\n",
        "print(\"Reshaped to 2x5:\\n\", array_2x5)\n",
        "print(\"Reshaped to 5x2:\\n\", array_5x2)\n"
      ],
      "metadata": {
        "colab": {
          "base_uri": "https://localhost:8080/"
        },
        "id": "T5QD2nT4TtOV",
        "outputId": "7a333bab-b31c-4f8b-937f-66758ac74d5a"
      },
      "execution_count": 12,
      "outputs": [
        {
          "output_type": "stream",
          "name": "stdout",
          "text": [
            "1D Array:\n",
            " [0 1 2 3 4 5 6 7 8 9]\n",
            "Reshaped to 2x5:\n",
            " [[0 1 2 3 4]\n",
            " [5 6 7 8 9]]\n",
            "Reshaped to 5x2:\n",
            " [[0 1]\n",
            " [2 3]\n",
            " [4 5]\n",
            " [6 7]\n",
            " [8 9]]\n"
          ]
        }
      ]
    },
    {
      "cell_type": "markdown",
      "source": [
        "3. Create a 4x4 NumPy array with random float values. Add a border of zeros around it, resulting in a 6x6 array.\n",
        "\n"
      ],
      "metadata": {
        "id": "XiGSplGIT2fF"
      }
    },
    {
      "cell_type": "code",
      "source": [
        "array_4x4 = np.random.rand(4, 4)\n",
        "\n",
        "\n",
        "array_with_border = np.pad(array_4x4, pad_width=1, mode='constant', constant_values=0)\n",
        "\n",
        "print(\"Original 4x4 Array:\\n\", array_4x4)\n",
        "print(\"Array with Border:\\n\", array_with_border)\n"
      ],
      "metadata": {
        "colab": {
          "base_uri": "https://localhost:8080/"
        },
        "id": "YqjLgEAwT49c",
        "outputId": "ebc3dd98-b439-4231-c1db-350c002a6dc8"
      },
      "execution_count": 13,
      "outputs": [
        {
          "output_type": "stream",
          "name": "stdout",
          "text": [
            "Original 4x4 Array:\n",
            " [[0.28835409 0.19829801 0.70112146 0.71371041]\n",
            " [0.17288744 0.21170141 0.0500673  0.08040602]\n",
            " [0.54185452 0.17193496 0.06681339 0.1043398 ]\n",
            " [0.34430556 0.72909152 0.39333529 0.94481419]]\n",
            "Array with Border:\n",
            " [[0.         0.         0.         0.         0.         0.        ]\n",
            " [0.         0.28835409 0.19829801 0.70112146 0.71371041 0.        ]\n",
            " [0.         0.17288744 0.21170141 0.0500673  0.08040602 0.        ]\n",
            " [0.         0.54185452 0.17193496 0.06681339 0.1043398  0.        ]\n",
            " [0.         0.34430556 0.72909152 0.39333529 0.94481419 0.        ]\n",
            " [0.         0.         0.         0.         0.         0.        ]]\n"
          ]
        }
      ]
    },
    {
      "cell_type": "markdown",
      "source": [
        "4. Using NumPy, create an array of integers from 10 to 60 with a step of 5."
      ],
      "metadata": {
        "id": "tL96aysHUN8g"
      }
    },
    {
      "cell_type": "code",
      "source": [
        "\n",
        "array_step_5 = np.arange(10, 61, 5)\n",
        "\n",
        "print(\"Array from 10 to 60 with step 5:\\n\", array_step_5)\n"
      ],
      "metadata": {
        "colab": {
          "base_uri": "https://localhost:8080/"
        },
        "id": "E49pAk4MUQdn",
        "outputId": "94290010-ef24-48db-cd33-c7518e9114e5"
      },
      "execution_count": 14,
      "outputs": [
        {
          "output_type": "stream",
          "name": "stdout",
          "text": [
            "Array from 10 to 60 with step 5:\n",
            " [10 15 20 25 30 35 40 45 50 55 60]\n"
          ]
        }
      ]
    },
    {
      "cell_type": "markdown",
      "source": [
        "5. Create a NumPy array of strings ['python', 'numpy', 'pandas']. Apply different case transformations\n",
        "(uppercase, lowercase, title case, etc.) to each element."
      ],
      "metadata": {
        "id": "i2FySJsdUWBj"
      }
    },
    {
      "cell_type": "code",
      "source": [
        "\n",
        "string_array = np.array(['python', 'numpy', 'pandas'])\n",
        "\n",
        "\n",
        "uppercase = np.char.upper(string_array)\n",
        "lowercase = np.char.lower(string_array)\n",
        "titlecase = np.char.title(string_array)\n",
        "capitalize = np.char.capitalize(string_array)\n",
        "\n",
        "print(\"Uppercase:\\n\", uppercase)\n",
        "print(\"Lowercase:\\n\", lowercase)\n",
        "print(\"Titlecase:\\n\", titlecase)\n",
        "print(\"Capitalize:\\n\", capitalize)\n"
      ],
      "metadata": {
        "colab": {
          "base_uri": "https://localhost:8080/"
        },
        "id": "B6uhWu_FUYoq",
        "outputId": "47d36ee4-effc-44dc-9826-ded6e11ebc81"
      },
      "execution_count": 15,
      "outputs": [
        {
          "output_type": "stream",
          "name": "stdout",
          "text": [
            "Uppercase:\n",
            " ['PYTHON' 'NUMPY' 'PANDAS']\n",
            "Lowercase:\n",
            " ['python' 'numpy' 'pandas']\n",
            "Titlecase:\n",
            " ['Python' 'Numpy' 'Pandas']\n",
            "Capitalize:\n",
            " ['Python' 'Numpy' 'Pandas']\n"
          ]
        }
      ]
    },
    {
      "cell_type": "markdown",
      "source": [
        "6. Generate a NumPy array of words. Insert a space between each character of every word in the array.\n",
        "\n"
      ],
      "metadata": {
        "id": "8NcD_uu1Uhw5"
      }
    },
    {
      "cell_type": "code",
      "source": [
        "words_array = np.array(['hello', 'world', 'numpy'])\n",
        "words_with_spaces = np.char.join(' ', words_array)\n",
        "\n",
        "print(\"Words with spaces between characters:\\n\", words_with_spaces)\n"
      ],
      "metadata": {
        "colab": {
          "base_uri": "https://localhost:8080/"
        },
        "id": "xAJN4dgmUlYH",
        "outputId": "4b827488-eca4-4692-c818-a166baba7b6a"
      },
      "execution_count": 16,
      "outputs": [
        {
          "output_type": "stream",
          "name": "stdout",
          "text": [
            "Words with spaces between characters:\n",
            " ['h e l l o' 'w o r l d' 'n u m p y']\n"
          ]
        }
      ]
    },
    {
      "cell_type": "markdown",
      "source": [
        "7. Create two 2D NumPy arrays and perform element-wise addition, subtraction, multiplication, and division.\n",
        "\n"
      ],
      "metadata": {
        "id": "CZ5CH2S3UtXZ"
      }
    },
    {
      "cell_type": "code",
      "source": [
        "array_a = np.array([[1, 2], [3, 4]])\n",
        "array_b = np.array([[5, 6], [7, 8]])\n",
        "\n",
        "addition = np.add(array_a, array_b)\n",
        "subtraction = np.subtract(array_a, array_b)\n",
        "multiplication = np.multiply(array_a, array_b)\n",
        "division = np.divide(array_a, array_b)\n",
        "\n",
        "print(\"Addition:\\n\", addition)\n",
        "print(\"Subtraction:\\n\", subtraction)\n",
        "print(\"Multiplication:\\n\", multiplication)\n",
        "print(\"Division:\\n\", division)\n"
      ],
      "metadata": {
        "colab": {
          "base_uri": "https://localhost:8080/"
        },
        "id": "Cn1vAnXtUwDb",
        "outputId": "0d18ab0f-045a-4858-d863-8dc0bf7b7848"
      },
      "execution_count": 18,
      "outputs": [
        {
          "output_type": "stream",
          "name": "stdout",
          "text": [
            "Addition:\n",
            " [[ 6  8]\n",
            " [10 12]]\n",
            "Subtraction:\n",
            " [[-4 -4]\n",
            " [-4 -4]]\n",
            "Multiplication:\n",
            " [[ 5 12]\n",
            " [21 32]]\n",
            "Division:\n",
            " [[0.2        0.33333333]\n",
            " [0.42857143 0.5       ]]\n"
          ]
        }
      ]
    },
    {
      "cell_type": "markdown",
      "source": [
        "8. Use NumPy to create a 5x5 identity matrix, then extract its diagonal elements.\n",
        "\n"
      ],
      "metadata": {
        "id": "k1bHaL0dU3z_"
      }
    },
    {
      "cell_type": "code",
      "source": [
        "identity_matrix = np.eye(5)\n",
        "diagonal_elements = np.diag(identity_matrix)\n",
        "\n",
        "print(\"Identity Matrix:\\n\", identity_matrix)\n",
        "print(\"Diagonal Elements:\\n\", diagonal_elements)\n"
      ],
      "metadata": {
        "colab": {
          "base_uri": "https://localhost:8080/"
        },
        "id": "VZTNLe_5U6iN",
        "outputId": "81afac10-2a6b-4ded-8587-7fb8ec1caa28"
      },
      "execution_count": 19,
      "outputs": [
        {
          "output_type": "stream",
          "name": "stdout",
          "text": [
            "Identity Matrix:\n",
            " [[1. 0. 0. 0. 0.]\n",
            " [0. 1. 0. 0. 0.]\n",
            " [0. 0. 1. 0. 0.]\n",
            " [0. 0. 0. 1. 0.]\n",
            " [0. 0. 0. 0. 1.]]\n",
            "Diagonal Elements:\n",
            " [1. 1. 1. 1. 1.]\n"
          ]
        }
      ]
    },
    {
      "cell_type": "markdown",
      "source": [
        "9. Generate a NumPy array of 100 random integers between 0 and 1000. Find and display all prime numbers in\n",
        "this array."
      ],
      "metadata": {
        "id": "HObc3n3wVDDA"
      }
    },
    {
      "cell_type": "code",
      "source": [
        "from sympy import primerange\n",
        "random_integers = np.random.randint(0, 1001, 100)\n",
        "primes_up_to_1000 = set(primerange(0, 1001))\n",
        "\n",
        "prime_numbers_in_array = np.intersect1d(random_integers, list(primes_up_to_1000))\n",
        "\n",
        "print(\"Random Integers:\\n\", random_integers)\n",
        "print(\"Prime Numbers in the Array:\\n\", prime_numbers_in_array)\n"
      ],
      "metadata": {
        "colab": {
          "base_uri": "https://localhost:8080/"
        },
        "id": "GIXSVAShVGPn",
        "outputId": "83a5334d-bdaa-4878-b6a5-b488fb6e8465"
      },
      "execution_count": 21,
      "outputs": [
        {
          "output_type": "stream",
          "name": "stdout",
          "text": [
            "Random Integers:\n",
            " [480 589 384 189 715 381 362 897 330 249 915 215 847 133 973 998 900 165\n",
            " 718 763 904 558 745 519 706 943 188  21 709 712 356 392 651 988 331 727\n",
            " 687 319 821  58 165  91 454 854 817 612 414 511 744 956 497  36  85 719\n",
            " 367 372 691  42 171 463 498 289  54  56 996 812 902 380 645  41 732 462\n",
            " 474 213 671  97 101 309 617 863 946 727 632 157 973 462 349 567 402 480\n",
            " 732  37 879 555 223 385 180 905 145 108]\n",
            "Prime Numbers in the Array:\n",
            " [ 37  41  97 101 157 223 331 349 367 463 617 691 709 719 727 821 863]\n"
          ]
        }
      ]
    },
    {
      "cell_type": "markdown",
      "source": [
        "10. Create a NumPy array representing daily temperatures for a month. Calculate and display the weekly\n",
        "averages."
      ],
      "metadata": {
        "id": "dRcucAgUViTU"
      }
    },
    {
      "cell_type": "code",
      "source": [
        "temperatures = np.random.uniform(10, 35, 30)\n",
        "weekly_averages = temperatures.reshape(5, 6).mean(axis=1)\n",
        "\n",
        "print(\"Daily Temperatures:\\n\", temperatures)\n",
        "print(\"Weekly Averages:\\n\", weekly_averages)\n"
      ],
      "metadata": {
        "colab": {
          "base_uri": "https://localhost:8080/"
        },
        "id": "BsGMmyxvVlvb",
        "outputId": "edba4bb9-691e-454f-b4fc-ff2f75c8d12b"
      },
      "execution_count": 22,
      "outputs": [
        {
          "output_type": "stream",
          "name": "stdout",
          "text": [
            "Daily Temperatures:\n",
            " [10.63940827 29.58983244 19.87820149 30.87471483 19.88331018 18.03605471\n",
            " 25.55394401 13.0701899  14.5233466  13.79483356 10.13158238 16.62297959\n",
            " 30.51633862 22.51286396 12.43362882 10.21313889 12.09277248 25.04916136\n",
            " 32.64740296 23.22991687 20.41240992 30.47603435 14.27506387 19.29522459\n",
            " 18.24595033 16.52875086 14.96710649 18.42518898 33.63103557 31.89326146]\n",
            "Weekly Averages:\n",
            " [21.48358699 15.61614601 18.80298402 23.38934209 22.28188228]\n"
          ]
        }
      ]
    }
  ]
}
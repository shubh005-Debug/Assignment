{
  "nbformat": 4,
  "nbformat_minor": 0,
  "metadata": {
    "colab": {
      "provenance": []
    },
    "kernelspec": {
      "name": "python3",
      "display_name": "Python 3"
    },
    "language_info": {
      "name": "python"
    }
  },
  "cells": [
    {
      "cell_type": "markdown",
      "source": [
        "# 1. Explain the key features of Python that makes it a popular choice for programing.\n",
        "\n",
        "=> Python is a beginner friendly language.\n",
        "\n",
        "=> It is readability because most up of syntax written in english it makes the code simpler to understand and helped people learn and execute code quicklyand with less difficulty.\n",
        "\n",
        "=> python is advance programming it has wide rang og libraries and packages.\n",
        "\n",
        "=> Python is a dynamic ,high-level,free opne-source and interpreted programming and supports oops concepts.\n",
        "\n",
        "=> we can run python program at any platform i.e. linux,mac.\n",
        "\n",
        "=> Python is used in web development , data science, AI/ML etc.\n",
        "\n",
        "=> In python there is know need to define what type of variable the python advance compiler detect and ensure which data types.\n",
        "\n",
        "Example: {\n",
        "          \n",
        "           a=4\n",
        "          type(a)\n",
        "          int    \n",
        "}\n",
        "\n",
        "a is variable and 4 is a element which is store in a.so  there is no need to define which type of data is it ensure by compiler only\n"
      ],
      "metadata": {
        "id": "CghZr1gY2X6R"
      }
    },
    {
      "cell_type": "markdown",
      "source": [
        "# 2. Describe the role of predefined keywords in Python and provide examples of how they are used in a program.\n",
        "\n",
        "=>  predefined keywords in python that have special meaning they cannot be used as identifires\n",
        "\n",
        "examples=>\n",
        "1). if , elif ,else: used for conditional statements.\n",
        "2). def:used to define a function.\n",
        "3). class:used to define a class.\n",
        "4). import: used to includes modules.\n",
        "\n",
        "\n"
      ],
      "metadata": {
        "id": "x5LCITh39gES"
      }
    },
    {
      "cell_type": "code",
      "source": [
        "x=11\n",
        "if x>10:\n",
        "  print(\"x is greater than 10\")"
      ],
      "metadata": {
        "colab": {
          "base_uri": "https://localhost:8080/"
        },
        "id": "8BRbgycFkh13",
        "outputId": "2d2e46e5-366c-48c8-8453-811e5d966ad8"
      },
      "execution_count": null,
      "outputs": [
        {
          "output_type": "stream",
          "name": "stdout",
          "text": [
            "x is greater than 10\n"
          ]
        }
      ]
    },
    {
      "cell_type": "code",
      "source": [
        "age=18\n",
        "\n",
        "if age<13:\n",
        "  print(\"you are a child\")\n",
        "elif age <20:\n",
        "  print(\"you are a teenager\")\n",
        "elif age < 25:\n",
        "  print(\"you are adult\")\n",
        "else:\n",
        "  print(\"you are a senior\")"
      ],
      "metadata": {
        "colab": {
          "base_uri": "https://localhost:8080/"
        },
        "id": "rwIN5UJflbyc",
        "outputId": "0baee2ba-3e66-4df6-9d8f-e620537ceb53"
      },
      "execution_count": null,
      "outputs": [
        {
          "output_type": "stream",
          "name": "stdout",
          "text": [
            "you are a teenager\n"
          ]
        }
      ]
    },
    {
      "cell_type": "markdown",
      "source": [
        "3. Compare and contrast mutable and immutable objects in pythn with examples.\n",
        "\n",
        "=> Mutable objects can be changed after their  creation e.g lists , dictionaries\n",
        "   while immutable objects cannot be modified once created e.g. strings,tuples"
      ],
      "metadata": {
        "id": "YgyVtV5gmITD"
      }
    },
    {
      "cell_type": "code",
      "source": [
        "#mutable\n",
        "list =[1,2,3]\n",
        "list.append(4)\n",
        "print(list)"
      ],
      "metadata": {
        "colab": {
          "base_uri": "https://localhost:8080/"
        },
        "id": "Xc1cORGSnIyw",
        "outputId": "6e15df78-b0ed-413b-fdec-15b6fe5726c5"
      },
      "execution_count": null,
      "outputs": [
        {
          "output_type": "stream",
          "name": "stdout",
          "text": [
            "[1, 2, 3, 4]\n"
          ]
        }
      ]
    },
    {
      "cell_type": "code",
      "source": [
        "#immutable\n",
        "string1=\"Hello\"\n",
        "\n",
        "string1[0]=\"h\" #string cannot be changed\n",
        "\n",
        "print(string1)"
      ],
      "metadata": {
        "colab": {
          "base_uri": "https://localhost:8080/",
          "height": 219
        },
        "collapsed": true,
        "id": "k3zq6XSbnV6Q",
        "outputId": "55c5c802-cfb6-4bff-f420-6be319c0dd9f"
      },
      "execution_count": null,
      "outputs": [
        {
          "output_type": "error",
          "ename": "TypeError",
          "evalue": "'str' object does not support item assignment",
          "traceback": [
            "\u001b[0;31m---------------------------------------------------------------------------\u001b[0m",
            "\u001b[0;31mTypeError\u001b[0m                                 Traceback (most recent call last)",
            "\u001b[0;32m<ipython-input-6-e74fcd7cd9ec>\u001b[0m in \u001b[0;36m<cell line: 4>\u001b[0;34m()\u001b[0m\n\u001b[1;32m      2\u001b[0m \u001b[0mstring1\u001b[0m\u001b[0;34m=\u001b[0m\u001b[0;34m\"Hello\"\u001b[0m\u001b[0;34m\u001b[0m\u001b[0;34m\u001b[0m\u001b[0m\n\u001b[1;32m      3\u001b[0m \u001b[0;34m\u001b[0m\u001b[0m\n\u001b[0;32m----> 4\u001b[0;31m \u001b[0mstring1\u001b[0m\u001b[0;34m[\u001b[0m\u001b[0;36m0\u001b[0m\u001b[0;34m]\u001b[0m\u001b[0;34m=\u001b[0m\u001b[0;34m\"h\"\u001b[0m \u001b[0;31m#string cannot be changed\u001b[0m\u001b[0;34m\u001b[0m\u001b[0;34m\u001b[0m\u001b[0m\n\u001b[0m\u001b[1;32m      5\u001b[0m \u001b[0;34m\u001b[0m\u001b[0m\n\u001b[1;32m      6\u001b[0m \u001b[0mprint\u001b[0m\u001b[0;34m(\u001b[0m\u001b[0mstring1\u001b[0m\u001b[0;34m)\u001b[0m\u001b[0;34m\u001b[0m\u001b[0;34m\u001b[0m\u001b[0m\n",
            "\u001b[0;31mTypeError\u001b[0m: 'str' object does not support item assignment"
          ]
        }
      ]
    },
    {
      "cell_type": "markdown",
      "source": [
        "4. Discuss the different types of operators in Pthyon and provide examples of how they are used.\n",
        "\n",
        "=>1. arithmetic operators: used for mathematical calculation.\n",
        "   "
      ],
      "metadata": {
        "id": "BU7M9Cqnom54"
      }
    },
    {
      "cell_type": "code",
      "source": [
        "a=8\n",
        "b=3\n",
        "print(f\"sum of {a} and {b} is: {a+b}\")\n",
        "print(f\"difference of {a} and {b}:{a-b}\")\n",
        "print(f\"multiplication of {a} and {b} is: {a*b}\")\n",
        "print(f\"division of {a} and {b} is :{a/b}\")\n",
        "print(f\"floor division of {a} and {b} is: {a//b}\")\n",
        "print(f\"modulus of {a} and {b} is: {a%b}\")\n",
        "print(f\"power multiply of {a} and {b} is : {a**b}\")"
      ],
      "metadata": {
        "id": "ISLklOo_NRIg"
      },
      "execution_count": null,
      "outputs": []
    },
    {
      "cell_type": "markdown",
      "source": [
        "=> 2. Comparison operators: used to compare two values."
      ],
      "metadata": {
        "id": "2uRGZQjWR_j5"
      }
    },
    {
      "cell_type": "code",
      "source": [
        "x=5\n",
        "y=10\n",
        "print(x<y)\n",
        "print(x==y)\n",
        "print(x>y)"
      ],
      "metadata": {
        "colab": {
          "base_uri": "https://localhost:8080/"
        },
        "id": "xwEBB9EbSNSv",
        "outputId": "d499bdff-d655-4d73-c4ee-5acd86ea2a66"
      },
      "execution_count": 6,
      "outputs": [
        {
          "output_type": "stream",
          "name": "stdout",
          "text": [
            "True\n",
            "False\n",
            "False\n"
          ]
        }
      ]
    },
    {
      "cell_type": "markdown",
      "source": [
        "=> 3. logical operator: used to combine conditional statements."
      ],
      "metadata": {
        "id": "7BkF7NdmSeAx"
      }
    },
    {
      "cell_type": "code",
      "source": [
        "a=1\n",
        "b=0\n",
        "print(a and b)\n",
        "print(a or b)\n"
      ],
      "metadata": {
        "id": "Zi0miMy_Sx2b"
      },
      "execution_count": null,
      "outputs": []
    },
    {
      "cell_type": "markdown",
      "source": [
        "=>4. assignment operator: used to assign values to variables.\n"
      ],
      "metadata": {
        "id": "48nejmxVS_4W"
      }
    },
    {
      "cell_type": "code",
      "source": [
        "a=5\n",
        "a+=2\n",
        "print(a)"
      ],
      "metadata": {
        "id": "7UtcynSnTO3W",
        "outputId": "2ecf8dd9-8aad-47bb-ef45-cc8dbb399ffe",
        "colab": {
          "base_uri": "https://localhost:8080/"
        }
      },
      "execution_count": 7,
      "outputs": [
        {
          "output_type": "stream",
          "name": "stdout",
          "text": [
            "7\n"
          ]
        }
      ]
    },
    {
      "cell_type": "markdown",
      "source": [
        "=>5. bitwise operator: operates on binary representation of integer.\n"
      ],
      "metadata": {
        "id": "J4Ta31g1TdTs"
      }
    },
    {
      "cell_type": "code",
      "source": [
        "a=6\n",
        "b=4\n",
        "\n",
        "print(a&b)\n",
        "print(a|b)"
      ],
      "metadata": {
        "id": "ZOTe5JmlUJds"
      },
      "execution_count": null,
      "outputs": []
    },
    {
      "cell_type": "markdown",
      "source": [
        "5. Explain the concept of type casting in Python with examples.\n",
        "=> type casting refers to converting one data type into another.\n",
        "\n",
        "there are two types of type casting:\n",
        "\n",
        "Implicit type casting: automatically done by a python itself."
      ],
      "metadata": {
        "id": "9y3plQUAUUza"
      }
    },
    {
      "cell_type": "code",
      "source": [
        "a=5\n",
        "b=2.5\n",
        "c=a+b\n",
        "print(c)"
      ],
      "metadata": {
        "id": "FKmCglr6UqXJ"
      },
      "execution_count": null,
      "outputs": []
    },
    {
      "cell_type": "markdown",
      "source": [
        "=> Explicit type casting: it is done by user using data types.\n",
        "e.g(int, float, string)"
      ],
      "metadata": {
        "id": "zc0ylAYzWeqm"
      }
    },
    {
      "cell_type": "code",
      "source": [
        "num = \"2\"\n",
        "print(int(num))\n",
        "print(float(num))\n",
        "print(str(num))"
      ],
      "metadata": {
        "id": "J8u6UC69WtLc",
        "outputId": "56e99143-1bb0-434e-f281-44559a0aa364",
        "colab": {
          "base_uri": "https://localhost:8080/"
        }
      },
      "execution_count": 11,
      "outputs": [
        {
          "output_type": "stream",
          "name": "stdout",
          "text": [
            "2\n",
            "2.0\n",
            "2\n"
          ]
        }
      ]
    },
    {
      "cell_type": "markdown",
      "source": [
        "6.How to conditional statements work in Python? Illustrate with examples.\n"
      ],
      "metadata": {
        "id": "nlwL1cA-XzEW"
      }
    },
    {
      "cell_type": "code",
      "source": [
        "#if\n",
        "age=18\n",
        "if age >=18:\n",
        "  print(\"you are an adult\")"
      ],
      "metadata": {
        "id": "yTdgB9PnYuHp"
      },
      "execution_count": null,
      "outputs": []
    },
    {
      "cell_type": "code",
      "source": [
        "#if-else\n",
        "\n",
        "num=5\n",
        "if num % 2 == 0:\n",
        "  print(\"even\")\n",
        "else:\n",
        "  print(\"odd\")\n"
      ],
      "metadata": {
        "id": "9zWY1pjlY8G0"
      },
      "execution_count": null,
      "outputs": []
    },
    {
      "cell_type": "code",
      "source": [
        "# elif\n",
        "\n",
        "marks=95\n",
        "if marks >=100:\n",
        "  print(\"grade A\")\n",
        "elif marks >= 90:\n",
        "  print(\"grade B\")\n",
        "else:\n",
        "  print(\"grade C\")"
      ],
      "metadata": {
        "id": "E86WaHRNZYSY"
      },
      "execution_count": null,
      "outputs": []
    },
    {
      "cell_type": "markdown",
      "source": [
        "7. Describe the different types of loops in Python and their use cases with examples.\n",
        "\n",
        "=>for loop: used for iterating over a sequence like (list,tuples,string)"
      ],
      "metadata": {
        "id": "ohYkxeq6aElm"
      }
    },
    {
      "cell_type": "code",
      "source": [
        "grocery_List =[\"Apple\",\"Tomato\",\"banana\"]\n",
        "for items in grocery_List:\n",
        "  print(items)"
      ],
      "metadata": {
        "id": "J9pxJl2-axut"
      },
      "execution_count": null,
      "outputs": []
    },
    {
      "cell_type": "markdown",
      "source": [
        "=> while loop:repeats as long as a condition is true."
      ],
      "metadata": {
        "id": "Z9J_A5gxbKAq"
      }
    },
    {
      "cell_type": "code",
      "source": [
        "count=0\n",
        "while count <5:\n",
        "  print(count)\n",
        "  count +=1"
      ],
      "metadata": {
        "id": "bOYNMcmLbTc-"
      },
      "execution_count": null,
      "outputs": []
    },
    {
      "cell_type": "markdown",
      "source": [],
      "metadata": {
        "id": "wRhm0W8wWenC"
      }
    }
  ]
}
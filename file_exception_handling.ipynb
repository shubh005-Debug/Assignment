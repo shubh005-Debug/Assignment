{
  "nbformat": 4,
  "nbformat_minor": 0,
  "metadata": {
    "colab": {
      "provenance": []
    },
    "kernelspec": {
      "name": "python3",
      "display_name": "Python 3"
    },
    "language_info": {
      "name": "python"
    }
  },
  "cells": [
    {
      "cell_type": "markdown",
      "source": [
        "1. What is the difference between interpreted and compiled languages.\n",
        "\n",
        "=>compiled:Before running, the entire source code is translated into machine code by a compiler This creates an executable file.\n",
        "\n",
        "interpreted:The source code is executed line by line by an interpreter. No separate executable file is created."
      ],
      "metadata": {
        "id": "B0I04KK29s4v"
      }
    },
    {
      "cell_type": "markdown",
      "source": [
        "2.What is exception handling in Python.\n",
        "\n",
        "=>In Python, when an error occurs during the execution of a program  it's called an exception. Exception handling is a mechanism to gracefully handle these errors and prevent the program from crashing."
      ],
      "metadata": {
        "id": "yxO1zYq2-Y7f"
      }
    },
    {
      "cell_type": "markdown",
      "source": [
        "3. What is the purpose of the finally block in exception handling.\n",
        "\n",
        "=>The finally block is a crucial part of exception handling in Python and many other programming languages It's designed to ensure that certain code is always executed regardless of whether an exception occurred or not within the preceding try and except blocks.\n"
      ],
      "metadata": {
        "id": "VxTtwIm5-xA4"
      }
    },
    {
      "cell_type": "markdown",
      "source": [
        "4.What is logging in Python.\n",
        "\n",
        "=>Logging is a valuable technique in software development that allows you to record events  messages, and data during the execution of your program. It's essential for debugging monitoring and understanding the behavior of your applications."
      ],
      "metadata": {
        "id": "opbAGbmQ_gnC"
      }
    },
    {
      "cell_type": "markdown",
      "source": [
        "5. What is the significance of the __del__ method in Python.\n",
        "\n",
        "=>In Python the __del__ method is a special method also known as a destructor. It's called when an object is about to be destroyed or garbage collected."
      ],
      "metadata": {
        "id": "bMCLlGYTAFcS"
      }
    },
    {
      "cell_type": "markdown",
      "source": [
        "6.What is the difference between import and from ... import in Python.\n",
        "\n",
        "=>Both import and from import are used to bring external modules or specific attributes from modules into your current Python script or interactive session. However they differ in how they make those modules or attributes accessible."
      ],
      "metadata": {
        "id": "LWa8j7QyA1bp"
      }
    },
    {
      "cell_type": "markdown",
      "source": [
        "7. How can you handle multiple exceptions in Python.\n",
        "\n",
        "=>1. Catching Multiple Exceptions in a Single except Block\n",
        "You can catch multiple exceptions by grouping them in a tuple and specifying them in a single except block.\n",
        "\n",
        "\n",
        "2. Using Multiple except Blocks\n",
        "You can handle each exception separately by using multiple except blocks.\n",
        "\n",
        "\n",
        "3. Using Exception as a Catch-All\n",
        "If you want to handle all exceptions not recommended unless necessary you can use the base Exception class.\n",
        "\n",
        "\n",
        "4. Combining Specific and General except Blocks\n",
        "You can handle specific exceptions first and catch all others later.\n",
        "\n",
        "5. Using else for Code Without Exceptions\n",
        "If no exceptions are raised, the else block executes.\n",
        "\n",
        "\n",
        "6. Using finally for Cleanup\n",
        "The finally block always executes, whether an exception is raised or not."
      ],
      "metadata": {
        "id": "6wFDM25HB8xH"
      }
    },
    {
      "cell_type": "markdown",
      "source": [
        "8. What is the purpose of the with statement when handling files in Python.\n",
        "\n",
        "=>The with statement ensures proper resource management like closing files after use even if exceptions occur."
      ],
      "metadata": {
        "id": "EBH8IY-tDvKa"
      }
    },
    {
      "cell_type": "markdown",
      "source": [
        "9. What is the difference between multithreading and multiprocessing.\n",
        "\n",
        "=>Multithreading: Multiple threads within the same process share memory and resources. Suitable for I/O-bound tasks.\n",
        "Multiprocessing: Separate processes have their own memory space. Ideal for CPU-bound tasks as it utilizes multiple cores."
      ],
      "metadata": {
        "id": "1qS6YlM9ERXf"
      }
    },
    {
      "cell_type": "markdown",
      "source": [
        "10. What are the advantages of using logging in a program.\n",
        "\n",
        "=> Provides insights into program execution.\n",
        ">Facilitates debugging and error tracking.\n",
        ">Supports various log levels for categorization.\n",
        ">Helps maintain historical records of program activities."
      ],
      "metadata": {
        "id": "xqkyl1HdEc74"
      }
    },
    {
      "cell_type": "markdown",
      "source": [
        "11. What is memory management in Python.\n",
        "\n",
        "=>Python manages memory using a private heap. It includes a garbage collection system to free up memory occupied by unused objects and optimizes memory allocation using tools like pymalloc.\n",
        "\n"
      ],
      "metadata": {
        "id": "Y8VduUGTEwX4"
      }
    },
    {
      "cell_type": "markdown",
      "source": [
        "12.  What are the basic steps involved in exception handling in Python.\n",
        "\n",
        "=> 1. Enclose risky code in a try block.\n",
        "2. Handle specific exceptions using except.\n",
        "3. Optionally use else for code that runs if no exceptions occur.\n",
        "4.Use finally for cleanup actions.\n"
      ],
      "metadata": {
        "id": "rFq4cSvIE9xN"
      }
    },
    {
      "cell_type": "markdown",
      "source": [
        "13.  Why is memory management important in Python.\n",
        "\n",
        "=>Efficient memory management ensures the program runs smoothly without memory leaks, handles large datasets, and maintains performance."
      ],
      "metadata": {
        "id": "Rcysina5FTe7"
      }
    },
    {
      "cell_type": "markdown",
      "source": [
        "14. What is the role of try and except in exception handling.\n",
        "\n",
        "=>The try block contains code that might raise an exception. If an exception occurs, the except block catches it and provides a way to handle it gracefully."
      ],
      "metadata": {
        "id": "XaQPLQK5FcDD"
      }
    },
    {
      "cell_type": "markdown",
      "source": [
        "15.  How does Python's garbage collection system work.\n",
        "\n",
        "=>Python uses reference counting and a cyclic garbage collector to manage memory. It deallocates memory for objects with zero references and handles circular references.\n"
      ],
      "metadata": {
        "id": "BnWW6IsdFm5E"
      }
    },
    {
      "cell_type": "markdown",
      "source": [
        "16.  What is the purpose of the else block in exception handling.\n",
        "\n",
        "=>The else block runs if no exceptions occur in the try block, separating the \"happy path\" logic from the exception-handling code."
      ],
      "metadata": {
        "id": "BG5DtlZmGJVd"
      }
    },
    {
      "cell_type": "markdown",
      "source": [
        "17.  What are the common logging levels in Python.\n",
        "\n",
        "=>DEBUG: Detailed diagnostic information.\n",
        "INFO: General application progress.\n",
        "WARNING: Indications of potential issues.\n",
        "ERROR: Errors that prevent certain functionalities.\n",
        "CRITICAL: Severe errors causing program shutdown.\n"
      ],
      "metadata": {
        "id": "mu_CGdgxGUrO"
      }
    },
    {
      "cell_type": "markdown",
      "source": [
        "18. What is the difference between os.fork() and multiprocessing in Python.\n",
        "\n",
        "=>os.fork(): Creates a child process by duplicating the parent. Limited to Unix-based systems.\n",
        "multiprocessing: Cross-platform and more flexible, with better inter-process communication and higher-level abstractions.\n"
      ],
      "metadata": {
        "id": "TzjkbbXrGhIc"
      }
    },
    {
      "cell_type": "markdown",
      "source": [
        "19. F What is the importance of closing a file in Python.\n",
        "\n",
        "=>Data is flushed to the disk.\n",
        "File descriptors are released, preventing resource leaks.\n"
      ],
      "metadata": {
        "id": "JY1ojBLGGyfG"
      }
    },
    {
      "cell_type": "markdown",
      "source": [
        "20.  What is the difference between file.read() and file.readline() in Python.\n",
        "\n",
        "=>file.read(): Reads the entire file or a specified number of characters.\n",
        "file.readline(): Reads a single line at a time."
      ],
      "metadata": {
        "id": "XWkT69f-HH9C"
      }
    },
    {
      "cell_type": "markdown",
      "source": [
        "21. What is the logging module in Python used for\n",
        "\n",
        "=>The logging module is used to record events, errors, warnings, and other messages in a structured way, enabling better debugging and monitoring.\n",
        "\n",
        "\n"
      ],
      "metadata": {
        "id": "Md04kcsXIGcl"
      }
    },
    {
      "cell_type": "markdown",
      "source": [
        "22.  What is the os module in Python used for in file handling.\n",
        "\n",
        "=>The os module provides functions for file handling, such as creating, deleting, and navigating directories, as well as interacting with the file system."
      ],
      "metadata": {
        "id": "CJoQwjDtIUPh"
      }
    },
    {
      "cell_type": "markdown",
      "source": [
        "23. What are the challenges associated with memory management in Python.\n",
        "\n",
        "=>Circular references: Objects referencing each other can complicate garbage collection.\n",
        "Fragmentation: Memory may become scattered, reducing efficiency.\n",
        "Performance trade-offs: Balancing garbage collection frequency and program speed."
      ],
      "metadata": {
        "id": "pOlhZ1xpIdgp"
      }
    },
    {
      "cell_type": "markdown",
      "source": [
        "24.   How do you raise an exception manually in Python.\n",
        "\n",
        "=>Use the raise keyword to trigger exceptions."
      ],
      "metadata": {
        "id": "oWehXboDIlyb"
      }
    },
    {
      "cell_type": "markdown",
      "source": [
        "25. Why is it important to use multithreading in certain applications?\n",
        "\n",
        "=>I/O-bound tasks e.g. network requests, file operations.\n",
        "Improving responsiveness in GUI applications.\n",
        "Parallel execution of lightweight tasks to maximize resource usage."
      ],
      "metadata": {
        "id": "_xKFtU3GIvUU"
      }
    },
    {
      "cell_type": "markdown",
      "source": [
        "PRACTICAL QUESTION"
      ],
      "metadata": {
        "id": "mF504Yk3I59s"
      }
    },
    {
      "cell_type": "code",
      "source": [
        "#1. How can you open a file for writing in Python and write a string to it\n",
        "\n",
        "file=open(\"data.txt\",\"w\")\n",
        "\n",
        "file.write(\"Hello, Future Engineer\")\n",
        "\n",
        "file.close()"
      ],
      "metadata": {
        "id": "pICaxB7zJYZE"
      },
      "execution_count": null,
      "outputs": []
    },
    {
      "cell_type": "code",
      "source": [
        "#2.  Write a Python program to read the contents of a file and print each line\n",
        "\n",
        "file=open(\"data.txt\",\"r\")\n",
        "\n",
        "for line in file:\n",
        "    print(line)\n",
        "\n",
        "file.close()"
      ],
      "metadata": {
        "id": "4nMnDJ0QKFai"
      },
      "execution_count": null,
      "outputs": []
    },
    {
      "cell_type": "code",
      "source": [
        "#3.  How would you handle a case where the file doesn't exist while trying to open it for reading.\n",
        "\n",
        "try:\n",
        "    file=open(\"data1.txt\",\"r\")\n",
        "except FileNotFoundError:\n",
        "    print(\"File not found\")"
      ],
      "metadata": {
        "id": "avOPpTFJKUFo"
      },
      "execution_count": null,
      "outputs": []
    },
    {
      "cell_type": "code",
      "source": [
        "#4. Write a Python script that reads from one file and writes its content to another file\n",
        "\n",
        "with open(\"data.txt\",'r') as file1:\n",
        "    content=file1.read()\n",
        "\n",
        "with open(\"data2.txt\",\"w\") as file2:\n",
        "    file2.write(content)"
      ],
      "metadata": {
        "id": "UMfVs63SK-4K"
      },
      "execution_count": null,
      "outputs": []
    },
    {
      "cell_type": "code",
      "source": [
        "#5. How would you catch and handle division by zero error in Python\n",
        "\n",
        "try:\n",
        "    result=10/0\n",
        "except ZeroDivisionError:\n",
        "    print(\"Error: Division by zero\")"
      ],
      "metadata": {
        "id": "DWBrQaoKMY2Z"
      },
      "execution_count": null,
      "outputs": []
    },
    {
      "cell_type": "code",
      "source": [
        "#6. Write a Python program that logs an error message to a log file when a division by zero exception occurs.\n",
        "\n",
        "import logging\n",
        "\n",
        "logging.basicConfig(filename=\"error.log\",level=logging.ERROR)\n",
        "\n",
        "try:\n",
        "    result=10/0\n",
        "except ZeroDivisionError:\n",
        "    logging.error(\"Error: Division by zero\")"
      ],
      "metadata": {
        "id": "dajC-A2OMygs"
      },
      "execution_count": null,
      "outputs": []
    },
    {
      "cell_type": "code",
      "source": [
        "#7. How do you log information at different levels (INFO, ERROR, WARNING) in Python using the logging module\n",
        "\n",
        "import logging\n",
        "logging.basicConfig(level=logging.INFO)\n",
        "logging.info(\"This is an info message\")\n",
        "\n",
        "logging.basicConfig(level=logging.ERROR)\n",
        "logging.error(\"This is an error message\")\n",
        "\n",
        "logging.basicConfig(level=logging.WARNING)\n",
        "logging.warning(\"This is a warning message\")"
      ],
      "metadata": {
        "id": "sq_-MOEWNHkq"
      },
      "execution_count": null,
      "outputs": []
    },
    {
      "cell_type": "code",
      "source": [
        "#8. Write a program to handle a file opening error using exception handling.\n",
        "\n",
        "try:\n",
        "    file=open(\"data.txt\",\"r\")\n",
        "except FileNotFoundError:\n",
        "    print(\"File not found\")\n"
      ],
      "metadata": {
        "id": "ylccQU3UNsCu"
      },
      "execution_count": null,
      "outputs": []
    },
    {
      "cell_type": "code",
      "source": [
        "#9.  How can you read a file line by line and store its content in a list in Python.\n",
        "list=[]\n",
        "with open(\"data.txt\",\"r\") as file:\n",
        "    lines=file.readlines()\n",
        "\n",
        "for line in lines:\n",
        "    list.append(line)\n",
        "\n",
        "print(line)"
      ],
      "metadata": {
        "id": "BckJmsfjPXjC"
      },
      "execution_count": null,
      "outputs": []
    },
    {
      "cell_type": "code",
      "source": [
        "#10. How can you append data to an existing file in Python\n",
        "\n",
        "with open(\"data.txt\",\"a\") as file:\n",
        "    file.write(\"Hello, Future Engineer\")\n"
      ],
      "metadata": {
        "id": "ZSSKzSlIQZiG"
      },
      "execution_count": null,
      "outputs": []
    },
    {
      "cell_type": "code",
      "source": [
        "#11 Write a Python program that uses a try-except block to handle an error when attempting to access a dictionary key that doesn't exist.\n",
        "\n",
        "my_dict = {\"apple\": 1, \"banana\": 2, \"cherry\": 3}\n",
        "\n",
        "try:\n",
        "    value = my_dict[\"grape\"]\n",
        "    print(f\"The value for grape is: {value}\")\n",
        "except KeyError:\n",
        "    print(\"Error: The key grape does not exist in the dictionary.\")\n",
        "\n"
      ],
      "metadata": {
        "id": "p0-jLEOVgUUD"
      },
      "execution_count": null,
      "outputs": []
    },
    {
      "cell_type": "code",
      "source": [
        "#12 Write a program that demonstrates using multiple except blocks to handle different types of exceptions\n",
        "\n",
        "try:\n",
        "    result = 10 / 0\n",
        "except ZeroDivisionError:\n",
        "    print(\"Error: Division by zero\")\n",
        "except ValueError:\n",
        "    print(\"Error: Invalid value\")\n",
        "except Exception as e:\n",
        "    print(f\"An unexpected error occurred: {e}\")\n"
      ],
      "metadata": {
        "id": "u8Iwg-xRhZ9g"
      },
      "execution_count": null,
      "outputs": []
    },
    {
      "cell_type": "code",
      "source": [
        "#13  How would you check if a file exists before attempting to read it in Python\n",
        "\n",
        "import os\n",
        "\n",
        "file_path = \"data.txt\"\n",
        "\n",
        "if os.path.exists(file_path):\n",
        "    with open(file_path, \"r\") as file:\n",
        "        content = file.read()\n",
        "        print(content)\n",
        "else:\n",
        "    print(f\"The file {file_path} does not exist.\")"
      ],
      "metadata": {
        "id": "l2CTV6nchs4S"
      },
      "execution_count": null,
      "outputs": []
    },
    {
      "cell_type": "code",
      "source": [
        "#14  Write a program that uses the logging module to log both informational and error messages\n",
        "\n",
        "import logging\n",
        "\n",
        "logging.basicConfig(level=logging.INFO)\n",
        "logging.info(\"this is info message\")\n",
        "\n",
        "logging.basicConfig(level=logging.ERROR)\n",
        "logging.error(\"this is error message\")\n",
        "\n"
      ],
      "metadata": {
        "id": "2iKotwWWiQMV"
      },
      "execution_count": null,
      "outputs": []
    },
    {
      "cell_type": "code",
      "source": [
        "#15  Write a Python program that prints the content of a file and handles the case when the file is empty\n",
        "\n",
        "def print_file_content(file_path):\n",
        "  try:\n",
        "      with open(file_path, 'r') as file:\n",
        "           content = file.read()\n",
        "           if content:\n",
        "               print(content)\n",
        "           else:\n",
        "               print(f\"the file {file_path} is empty\")\n",
        "  except FileNotFoundError:\n",
        "    print(f\"the file {file_path} was not found\")\n",
        "\n",
        "file_path=\"my_file.txt\"\n",
        "print_file_content(file_path)"
      ],
      "metadata": {
        "colab": {
          "base_uri": "https://localhost:8080/"
        },
        "id": "8YFtjQ3rjcAj",
        "outputId": "11998afe-5710-43a2-cba7-41ae620858ae"
      },
      "execution_count": null,
      "outputs": [
        {
          "output_type": "stream",
          "name": "stdout",
          "text": [
            "the file my_file.txt was not found\n"
          ]
        }
      ]
    },
    {
      "cell_type": "code",
      "source": [
        "#17  Write a Python program to create and write a list of numbers to a file, one number per line\n",
        "\n",
        "numbers=[1,2,3,4,5]\n",
        "\n",
        "with open(\"numbers.txt\",\"w\") as file:\n",
        "    for number in numbers:\n",
        "        file.write(str(number)+'\\n')\n"
      ],
      "metadata": {
        "id": "8LXJnzs3SU0I"
      },
      "execution_count": 5,
      "outputs": []
    },
    {
      "cell_type": "code",
      "source": [
        "#19 Write a program that handles both IndexError and KeyError using a try-except block\n",
        "\n",
        "my_list = [1, 2, 3]\n",
        "\n",
        "try:\n",
        "    value = my_list[3]\n",
        "except IndexError:\n",
        "    print(\"Error: Index out of range\")\n",
        "except KeyError:\n",
        "    print(\"Error: Key not found in dictionary\")"
      ],
      "metadata": {
        "id": "vCG7PeW1VnFq"
      },
      "execution_count": null,
      "outputs": []
    },
    {
      "cell_type": "code",
      "source": [
        "#20  How would you open a file and read its contents using a context manager in Python\n",
        "\n",
        "with open(\"data.txt\",\"r\") as file:\n",
        "    content=file.read()\n",
        "    print(content)"
      ],
      "metadata": {
        "id": "nk3vD5UMWJyY"
      },
      "execution_count": null,
      "outputs": []
    },
    {
      "cell_type": "code",
      "source": [
        "#21  Write a Python program that reads a file and prints the number of occurrences of a specific word\n",
        "def count_word_occurrences(file_path, word):\n",
        "  count=0\n",
        "  with open(file_path, 'r') as file:\n",
        "    for line in file:\n",
        "      words=line.split()\n",
        "      count +=words.count(word)\n",
        "  return count\n",
        "\n",
        "file_path = \"data.txt\"\n",
        "word = \"Hello\"\n",
        "occurrences = count_word_occurrences(file_path, word)\n",
        "print(f\"The word {word} appears {occurrences} times in the file.\")\n"
      ],
      "metadata": {
        "id": "tnId8cVCZplM"
      },
      "execution_count": null,
      "outputs": []
    },
    {
      "cell_type": "code",
      "source": [
        "#22  How can you check if a file is empty before attempting to read its contents\n",
        "\n",
        "def is_file_empty(file_path):\n",
        "  try:\n",
        "    with open(file_path, 'r') as file:\n",
        "      content = file.read()\n",
        "      if is_empty:\n",
        "        print(f\"The file {file_path} is empty\")\n",
        "  except FileNotFoundError:\n",
        "    return False\n",
        "\n",
        "file_path = \"data.txt\"\n",
        "is_empty = is_file_empty(file_path)\n"
      ],
      "metadata": {
        "id": "5ZW1VbohaKoG"
      },
      "execution_count": null,
      "outputs": []
    },
    {
      "cell_type": "code",
      "source": [
        "#23 Write a Python program that writes to a log file when an error occurs during file handling\n",
        "\n",
        "import logging\n",
        "logging.basicConfig(filename='file_handling_errors.log', level=logging.ERROR,\n",
        "                    format='%(asctime)s - %(levelname)s - %(message)s')\n",
        "\n",
        "def process_file(filename):\n",
        "\n",
        "    try:\n",
        "        with open(filename, 'r') as file:\n",
        "            contents = file.read()\n",
        "    except FileNotFoundError:\n",
        "        logging.error(f\"File not found: {filename}\")\n",
        "    except Exception as e:\n",
        "        logging.error(f\"An error occurred during file handling: {e}\")\n",
        "\n",
        "filename = 'my_file.txt'\n",
        "process_file(filename)"
      ],
      "metadata": {
        "id": "RgRPbuGEarKM"
      },
      "execution_count": null,
      "outputs": []
    }
  ]
}